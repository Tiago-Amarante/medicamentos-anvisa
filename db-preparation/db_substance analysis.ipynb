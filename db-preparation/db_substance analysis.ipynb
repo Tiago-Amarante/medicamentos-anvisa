{
 "cells": [
  {
   "cell_type": "code",
   "execution_count": 1,
   "metadata": {},
   "outputs": [],
   "source": [
    "import polars as pl\n",
    "import pandas as pd\n",
    "import plotly.express as px \n",
    "import pyarrow\n"
   ]
  },
  {
   "cell_type": "code",
   "execution_count": 2,
   "metadata": {},
   "outputs": [
    {
     "data": {
      "text/html": [
       "<div>\n",
       "<style scoped>\n",
       "    .dataframe tbody tr th:only-of-type {\n",
       "        vertical-align: middle;\n",
       "    }\n",
       "\n",
       "    .dataframe tbody tr th {\n",
       "        vertical-align: top;\n",
       "    }\n",
       "\n",
       "    .dataframe thead th {\n",
       "        text-align: right;\n",
       "    }\n",
       "\n",
       "    .dataframe td {\n",
       "        white-space: pre;\n",
       "    }\n",
       "\n",
       "    .dataframe td {\n",
       "        padding-top: 0;\n",
       "    }\n",
       "\n",
       "    .dataframe td {\n",
       "        padding-bottom: 0;\n",
       "    }\n",
       "</style>\n",
       "<table border=\"1\" class=\"dataframe\">\n",
       "<small>shape: (5, 4)</small>\n",
       "<thead>\n",
       "<tr>\n",
       "<th>\n",
       "PRINCIPIO_ATIVO\n",
       "</th>\n",
       "<th>\n",
       "UF_VENDA\n",
       "</th>\n",
       "<th>\n",
       "DATA\n",
       "</th>\n",
       "<th>\n",
       "count\n",
       "</th>\n",
       "</tr>\n",
       "<tr>\n",
       "<td>\n",
       "str\n",
       "</td>\n",
       "<td>\n",
       "str\n",
       "</td>\n",
       "<td>\n",
       "i64\n",
       "</td>\n",
       "<td>\n",
       "i64\n",
       "</td>\n",
       "</tr>\n",
       "</thead>\n",
       "<tbody>\n",
       "<tr>\n",
       "<td>\n",
       "&quot;ESTOLATO DE ER...\n",
       "</td>\n",
       "<td>\n",
       "&quot;SP&quot;\n",
       "</td>\n",
       "<td>\n",
       "102014\n",
       "</td>\n",
       "<td>\n",
       "5948\n",
       "</td>\n",
       "</tr>\n",
       "<tr>\n",
       "<td>\n",
       "&quot;CLORIDRATO DE ...\n",
       "</td>\n",
       "<td>\n",
       "&quot;SP&quot;\n",
       "</td>\n",
       "<td>\n",
       "102014\n",
       "</td>\n",
       "<td>\n",
       "5885\n",
       "</td>\n",
       "</tr>\n",
       "<tr>\n",
       "<td>\n",
       "&quot;ESTOLATO DE ER...\n",
       "</td>\n",
       "<td>\n",
       "&quot;SP&quot;\n",
       "</td>\n",
       "<td>\n",
       "72014\n",
       "</td>\n",
       "<td>\n",
       "5809\n",
       "</td>\n",
       "</tr>\n",
       "<tr>\n",
       "<td>\n",
       "&quot;CLORIDRATO DE ...\n",
       "</td>\n",
       "<td>\n",
       "&quot;SP&quot;\n",
       "</td>\n",
       "<td>\n",
       "92014\n",
       "</td>\n",
       "<td>\n",
       "5696\n",
       "</td>\n",
       "</tr>\n",
       "<tr>\n",
       "<td>\n",
       "&quot;CLORIDRATO DE ...\n",
       "</td>\n",
       "<td>\n",
       "&quot;SP&quot;\n",
       "</td>\n",
       "<td>\n",
       "72014\n",
       "</td>\n",
       "<td>\n",
       "5618\n",
       "</td>\n",
       "</tr>\n",
       "</tbody>\n",
       "</table>\n",
       "</div>"
      ],
      "text/plain": [
       "shape: (5, 4)\n",
       "┌──────────────────────────┬──────────┬────────┬───────┐\n",
       "│ PRINCIPIO_ATIVO          ┆ UF_VENDA ┆ DATA   ┆ count │\n",
       "│ ---                      ┆ ---      ┆ ---    ┆ ---   │\n",
       "│ str                      ┆ str      ┆ i64    ┆ i64   │\n",
       "╞══════════════════════════╪══════════╪════════╪═══════╡\n",
       "│ ESTOLATO DE ERITROMICINA ┆ SP       ┆ 102014 ┆ 5948  │\n",
       "│ CLORIDRATO DE FLUOXETINA ┆ SP       ┆ 102014 ┆ 5885  │\n",
       "│ ESTOLATO DE ERITROMICINA ┆ SP       ┆ 72014  ┆ 5809  │\n",
       "│ CLORIDRATO DE FLUOXETINA ┆ SP       ┆ 92014  ┆ 5696  │\n",
       "│ CLORIDRATO DE FLUOXETINA ┆ SP       ┆ 72014  ┆ 5618  │\n",
       "└──────────────────────────┴──────────┴────────┴───────┘"
      ]
     },
     "execution_count": 2,
     "metadata": {},
     "output_type": "execute_result"
    }
   ],
   "source": [
    "lf = pl.scan_csv('D:\\Base_de_dados_anvisa\\years_active principle.csv')\n",
    "\n",
    "lf.head().collect()"
   ]
  },
  {
   "cell_type": "code",
   "execution_count": 9,
   "metadata": {},
   "outputs": [
    {
     "data": {
      "text/plain": [
       "\"     data_col = data_col.with_column()\\n    data_col = data_col.apply(lambda x: x.zfill(8))\\n    data_col = data_col.str.replace('00','01')\\n    data_col = pd.to_datetime(data_col, format='%d%m%Y') \""
      ]
     },
     "execution_count": 9,
     "metadata": {},
     "output_type": "execute_result"
    }
   ],
   "source": [
    "\"\"\"     data_col = data_col.with_column()\n",
    "    data_col = data_col.apply(lambda x: x.zfill(8))\n",
    "    data_col = data_col.str.replace('00','01')\n",
    "    data_col = pd.to_datetime(data_col, format='%d%m%Y') \"\"\""
   ]
  },
  {
   "cell_type": "code",
   "execution_count": 10,
   "metadata": {},
   "outputs": [],
   "source": [
    "def correct_data(LazyFrame, col_name):\n",
    "    z=8\n",
    "    q = (\n",
    "        lf\n",
    "        .with_columns(\n",
    "            pl.col(col_name)\n",
    "            .cast(pl.Utf8)\n",
    "        )\n",
    "        .with_columns(\n",
    "            pl.when(\n",
    "                pl.col(col_name).cast(pl.Utf8).str.lengths() > z\n",
    "            )\n",
    "            .then(\n",
    "                pl.col(col_name).cast(pl.Utf8)\n",
    "            )\n",
    "            .otherwise(\n",
    "                pl.concat_str([pl.lit(\"0\" * z), pl.col(col_name).cast(pl.Utf8)]).str.slice(-z)\n",
    "            )\n",
    "            .alias(\"DATETIME\")\n",
    "        )\n",
    "        .with_columns(\n",
    "            pl.col('DATETIME').str.replace('00','01').alias('DATETIME')\n",
    "        )\n",
    "        .with_columns(\n",
    "            pl.col('DATETIME').str.strptime(pl.Date, fmt='%d%m%Y').cast(pl.Datetime)\n",
    "        )\n",
    "        .sort(by=pl.col('DATETIME'))\n",
    "\n",
    "    )\n",
    "    df = q.collect()\n",
    "    \n",
    "    return df\n"
   ]
  },
  {
   "cell_type": "code",
   "execution_count": 14,
   "metadata": {},
   "outputs": [
    {
     "data": {
      "text/html": [
       "<div>\n",
       "<style scoped>\n",
       "    .dataframe tbody tr th:only-of-type {\n",
       "        vertical-align: middle;\n",
       "    }\n",
       "\n",
       "    .dataframe tbody tr th {\n",
       "        vertical-align: top;\n",
       "    }\n",
       "\n",
       "    .dataframe thead th {\n",
       "        text-align: right;\n",
       "    }\n",
       "\n",
       "    .dataframe td {\n",
       "        white-space: pre;\n",
       "    }\n",
       "\n",
       "    .dataframe td {\n",
       "        padding-top: 0;\n",
       "    }\n",
       "\n",
       "    .dataframe td {\n",
       "        padding-bottom: 0;\n",
       "    }\n",
       "</style>\n",
       "<table border=\"1\" class=\"dataframe\">\n",
       "<small>shape: (160, 5)</small>\n",
       "<thead>\n",
       "<tr>\n",
       "<th>\n",
       "PRINCIPIO_ATIVO\n",
       "</th>\n",
       "<th>\n",
       "UF_VENDA\n",
       "</th>\n",
       "<th>\n",
       "DATA\n",
       "</th>\n",
       "<th>\n",
       "count\n",
       "</th>\n",
       "<th>\n",
       "DATETIME\n",
       "</th>\n",
       "</tr>\n",
       "<tr>\n",
       "<td>\n",
       "str\n",
       "</td>\n",
       "<td>\n",
       "str\n",
       "</td>\n",
       "<td>\n",
       "str\n",
       "</td>\n",
       "<td>\n",
       "i64\n",
       "</td>\n",
       "<td>\n",
       "datetime[μs]\n",
       "</td>\n",
       "</tr>\n",
       "</thead>\n",
       "<tbody>\n",
       "<tr>\n",
       "<td>\n",
       "&quot;CLORIDRATO DE ...\n",
       "</td>\n",
       "<td>\n",
       "&quot;SP&quot;\n",
       "</td>\n",
       "<td>\n",
       "&quot;12014&quot;\n",
       "</td>\n",
       "<td>\n",
       "5055\n",
       "</td>\n",
       "<td>\n",
       "2014-01-01 00:00:00\n",
       "</td>\n",
       "</tr>\n",
       "<tr>\n",
       "<td>\n",
       "&quot;CLORIDRATO DE ...\n",
       "</td>\n",
       "<td>\n",
       "&quot;SP&quot;\n",
       "</td>\n",
       "<td>\n",
       "&quot;22014&quot;\n",
       "</td>\n",
       "<td>\n",
       "5073\n",
       "</td>\n",
       "<td>\n",
       "2014-02-01 00:00:00\n",
       "</td>\n",
       "</tr>\n",
       "<tr>\n",
       "<td>\n",
       "&quot;CLORIDRATO DE ...\n",
       "</td>\n",
       "<td>\n",
       "&quot;SP&quot;\n",
       "</td>\n",
       "<td>\n",
       "&quot;32014&quot;\n",
       "</td>\n",
       "<td>\n",
       "5174\n",
       "</td>\n",
       "<td>\n",
       "2014-03-01 00:00:00\n",
       "</td>\n",
       "</tr>\n",
       "<tr>\n",
       "<td>\n",
       "&quot;CLORIDRATO DE ...\n",
       "</td>\n",
       "<td>\n",
       "&quot;SP&quot;\n",
       "</td>\n",
       "<td>\n",
       "&quot;42014&quot;\n",
       "</td>\n",
       "<td>\n",
       "5241\n",
       "</td>\n",
       "<td>\n",
       "2014-04-01 00:00:00\n",
       "</td>\n",
       "</tr>\n",
       "<tr>\n",
       "<td>\n",
       "&quot;ESTOLATO DE ER...\n",
       "</td>\n",
       "<td>\n",
       "&quot;SP&quot;\n",
       "</td>\n",
       "<td>\n",
       "&quot;52014&quot;\n",
       "</td>\n",
       "<td>\n",
       "5494\n",
       "</td>\n",
       "<td>\n",
       "2014-05-01 00:00:00\n",
       "</td>\n",
       "</tr>\n",
       "<tr>\n",
       "<td>\n",
       "&quot;CLORIDRATO DE ...\n",
       "</td>\n",
       "<td>\n",
       "&quot;SP&quot;\n",
       "</td>\n",
       "<td>\n",
       "&quot;52014&quot;\n",
       "</td>\n",
       "<td>\n",
       "5340\n",
       "</td>\n",
       "<td>\n",
       "2014-05-01 00:00:00\n",
       "</td>\n",
       "</tr>\n",
       "<tr>\n",
       "<td>\n",
       "&quot;CLORIDRATO DE ...\n",
       "</td>\n",
       "<td>\n",
       "&quot;SP&quot;\n",
       "</td>\n",
       "<td>\n",
       "&quot;62014&quot;\n",
       "</td>\n",
       "<td>\n",
       "5175\n",
       "</td>\n",
       "<td>\n",
       "2014-06-01 00:00:00\n",
       "</td>\n",
       "</tr>\n",
       "<tr>\n",
       "<td>\n",
       "&quot;ESTOLATO DE ER...\n",
       "</td>\n",
       "<td>\n",
       "&quot;SP&quot;\n",
       "</td>\n",
       "<td>\n",
       "&quot;72014&quot;\n",
       "</td>\n",
       "<td>\n",
       "5809\n",
       "</td>\n",
       "<td>\n",
       "2014-07-01 00:00:00\n",
       "</td>\n",
       "</tr>\n",
       "<tr>\n",
       "<td>\n",
       "&quot;CLORIDRATO DE ...\n",
       "</td>\n",
       "<td>\n",
       "&quot;SP&quot;\n",
       "</td>\n",
       "<td>\n",
       "&quot;72014&quot;\n",
       "</td>\n",
       "<td>\n",
       "5618\n",
       "</td>\n",
       "<td>\n",
       "2014-07-01 00:00:00\n",
       "</td>\n",
       "</tr>\n",
       "<tr>\n",
       "<td>\n",
       "&quot;CLORIDRATO DE ...\n",
       "</td>\n",
       "<td>\n",
       "&quot;SP&quot;\n",
       "</td>\n",
       "<td>\n",
       "&quot;72014&quot;\n",
       "</td>\n",
       "<td>\n",
       "5070\n",
       "</td>\n",
       "<td>\n",
       "2014-07-01 00:00:00\n",
       "</td>\n",
       "</tr>\n",
       "<tr>\n",
       "<td>\n",
       "&quot;CLORIDRATO DE ...\n",
       "</td>\n",
       "<td>\n",
       "&quot;SP&quot;\n",
       "</td>\n",
       "<td>\n",
       "&quot;82014&quot;\n",
       "</td>\n",
       "<td>\n",
       "5505\n",
       "</td>\n",
       "<td>\n",
       "2014-08-01 00:00:00\n",
       "</td>\n",
       "</tr>\n",
       "<tr>\n",
       "<td>\n",
       "&quot;ESTOLATO DE ER...\n",
       "</td>\n",
       "<td>\n",
       "&quot;SP&quot;\n",
       "</td>\n",
       "<td>\n",
       "&quot;82014&quot;\n",
       "</td>\n",
       "<td>\n",
       "5402\n",
       "</td>\n",
       "<td>\n",
       "2014-08-01 00:00:00\n",
       "</td>\n",
       "</tr>\n",
       "<tr>\n",
       "<td>\n",
       "...\n",
       "</td>\n",
       "<td>\n",
       "...\n",
       "</td>\n",
       "<td>\n",
       "...\n",
       "</td>\n",
       "<td>\n",
       "...\n",
       "</td>\n",
       "<td>\n",
       "...\n",
       "</td>\n",
       "</tr>\n",
       "<tr>\n",
       "<td>\n",
       "&quot;TESTOSTERONA&quot;\n",
       "</td>\n",
       "<td>\n",
       "&quot;SP&quot;\n",
       "</td>\n",
       "<td>\n",
       "&quot;52021&quot;\n",
       "</td>\n",
       "<td>\n",
       "5917\n",
       "</td>\n",
       "<td>\n",
       "2021-05-01 00:00:00\n",
       "</td>\n",
       "</tr>\n",
       "<tr>\n",
       "<td>\n",
       "&quot;GABAPENTINA&quot;\n",
       "</td>\n",
       "<td>\n",
       "&quot;SP&quot;\n",
       "</td>\n",
       "<td>\n",
       "&quot;62021&quot;\n",
       "</td>\n",
       "<td>\n",
       "7861\n",
       "</td>\n",
       "<td>\n",
       "2021-06-01 00:00:00\n",
       "</td>\n",
       "</tr>\n",
       "<tr>\n",
       "<td>\n",
       "&quot;TESTOSTERONA&quot;\n",
       "</td>\n",
       "<td>\n",
       "&quot;SP&quot;\n",
       "</td>\n",
       "<td>\n",
       "&quot;62021&quot;\n",
       "</td>\n",
       "<td>\n",
       "6002\n",
       "</td>\n",
       "<td>\n",
       "2021-06-01 00:00:00\n",
       "</td>\n",
       "</tr>\n",
       "<tr>\n",
       "<td>\n",
       "&quot;GABAPENTINA&quot;\n",
       "</td>\n",
       "<td>\n",
       "&quot;SP&quot;\n",
       "</td>\n",
       "<td>\n",
       "&quot;72021&quot;\n",
       "</td>\n",
       "<td>\n",
       "7990\n",
       "</td>\n",
       "<td>\n",
       "2021-07-01 00:00:00\n",
       "</td>\n",
       "</tr>\n",
       "<tr>\n",
       "<td>\n",
       "&quot;TESTOSTERONA&quot;\n",
       "</td>\n",
       "<td>\n",
       "&quot;SP&quot;\n",
       "</td>\n",
       "<td>\n",
       "&quot;72021&quot;\n",
       "</td>\n",
       "<td>\n",
       "5940\n",
       "</td>\n",
       "<td>\n",
       "2021-07-01 00:00:00\n",
       "</td>\n",
       "</tr>\n",
       "<tr>\n",
       "<td>\n",
       "&quot;GABAPENTINA&quot;\n",
       "</td>\n",
       "<td>\n",
       "&quot;SP&quot;\n",
       "</td>\n",
       "<td>\n",
       "&quot;82021&quot;\n",
       "</td>\n",
       "<td>\n",
       "8171\n",
       "</td>\n",
       "<td>\n",
       "2021-08-01 00:00:00\n",
       "</td>\n",
       "</tr>\n",
       "<tr>\n",
       "<td>\n",
       "&quot;TESTOSTERONA&quot;\n",
       "</td>\n",
       "<td>\n",
       "&quot;SP&quot;\n",
       "</td>\n",
       "<td>\n",
       "&quot;82021&quot;\n",
       "</td>\n",
       "<td>\n",
       "6338\n",
       "</td>\n",
       "<td>\n",
       "2021-08-01 00:00:00\n",
       "</td>\n",
       "</tr>\n",
       "<tr>\n",
       "<td>\n",
       "&quot;GABAPENTINA&quot;\n",
       "</td>\n",
       "<td>\n",
       "&quot;SP&quot;\n",
       "</td>\n",
       "<td>\n",
       "&quot;92021&quot;\n",
       "</td>\n",
       "<td>\n",
       "8073\n",
       "</td>\n",
       "<td>\n",
       "2021-09-01 00:00:00\n",
       "</td>\n",
       "</tr>\n",
       "<tr>\n",
       "<td>\n",
       "&quot;TESTOSTERONA&quot;\n",
       "</td>\n",
       "<td>\n",
       "&quot;SP&quot;\n",
       "</td>\n",
       "<td>\n",
       "&quot;92021&quot;\n",
       "</td>\n",
       "<td>\n",
       "6415\n",
       "</td>\n",
       "<td>\n",
       "2021-09-01 00:00:00\n",
       "</td>\n",
       "</tr>\n",
       "<tr>\n",
       "<td>\n",
       "&quot;GABAPENTINA&quot;\n",
       "</td>\n",
       "<td>\n",
       "&quot;SP&quot;\n",
       "</td>\n",
       "<td>\n",
       "&quot;102021&quot;\n",
       "</td>\n",
       "<td>\n",
       "7438\n",
       "</td>\n",
       "<td>\n",
       "2021-10-01 00:00:00\n",
       "</td>\n",
       "</tr>\n",
       "<tr>\n",
       "<td>\n",
       "&quot;TESTOSTERONA&quot;\n",
       "</td>\n",
       "<td>\n",
       "&quot;SP&quot;\n",
       "</td>\n",
       "<td>\n",
       "&quot;102021&quot;\n",
       "</td>\n",
       "<td>\n",
       "6313\n",
       "</td>\n",
       "<td>\n",
       "2021-10-01 00:00:00\n",
       "</td>\n",
       "</tr>\n",
       "<tr>\n",
       "<td>\n",
       "&quot;GABAPENTINA&quot;\n",
       "</td>\n",
       "<td>\n",
       "&quot;SP&quot;\n",
       "</td>\n",
       "<td>\n",
       "&quot;112021&quot;\n",
       "</td>\n",
       "<td>\n",
       "5903\n",
       "</td>\n",
       "<td>\n",
       "2021-11-01 00:00:00\n",
       "</td>\n",
       "</tr>\n",
       "</tbody>\n",
       "</table>\n",
       "</div>"
      ],
      "text/plain": [
       "shape: (160, 5)\n",
       "┌──────────────────────────┬──────────┬────────┬───────┬─────────────────────┐\n",
       "│ PRINCIPIO_ATIVO          ┆ UF_VENDA ┆ DATA   ┆ count ┆ DATETIME            │\n",
       "│ ---                      ┆ ---      ┆ ---    ┆ ---   ┆ ---                 │\n",
       "│ str                      ┆ str      ┆ str    ┆ i64   ┆ datetime[μs]        │\n",
       "╞══════════════════════════╪══════════╪════════╪═══════╪═════════════════════╡\n",
       "│ CLORIDRATO DE FLUOXETINA ┆ SP       ┆ 12014  ┆ 5055  ┆ 2014-01-01 00:00:00 │\n",
       "│ CLORIDRATO DE FLUOXETINA ┆ SP       ┆ 22014  ┆ 5073  ┆ 2014-02-01 00:00:00 │\n",
       "│ CLORIDRATO DE FLUOXETINA ┆ SP       ┆ 32014  ┆ 5174  ┆ 2014-03-01 00:00:00 │\n",
       "│ CLORIDRATO DE FLUOXETINA ┆ SP       ┆ 42014  ┆ 5241  ┆ 2014-04-01 00:00:00 │\n",
       "│ ...                      ┆ ...      ┆ ...    ┆ ...   ┆ ...                 │\n",
       "│ TESTOSTERONA             ┆ SP       ┆ 92021  ┆ 6415  ┆ 2021-09-01 00:00:00 │\n",
       "│ GABAPENTINA              ┆ SP       ┆ 102021 ┆ 7438  ┆ 2021-10-01 00:00:00 │\n",
       "│ TESTOSTERONA             ┆ SP       ┆ 102021 ┆ 6313  ┆ 2021-10-01 00:00:00 │\n",
       "│ GABAPENTINA              ┆ SP       ┆ 112021 ┆ 5903  ┆ 2021-11-01 00:00:00 │\n",
       "└──────────────────────────┴──────────┴────────┴───────┴─────────────────────┘"
      ]
     },
     "execution_count": 14,
     "metadata": {},
     "output_type": "execute_result"
    }
   ],
   "source": [
    "df = correct_data(lf, 'DATA')\n",
    "df"
   ]
  },
  {
   "cell_type": "code",
   "execution_count": 15,
   "metadata": {},
   "outputs": [
    {
     "data": {
      "application/vnd.plotly.v1+json": {
       "config": {
        "plotlyServerURL": "https://plot.ly"
       },
       "data": [
        {
         "hovertemplate": "PRINCIPIO_ATIVO=CLORIDRATO DE FLUOXETINA<br>DATETIME=%{x}<br>count=%{y}<extra></extra>",
         "legendgroup": "CLORIDRATO DE FLUOXETINA",
         "line": {
          "color": "#636efa",
          "dash": "solid"
         },
         "marker": {
          "symbol": "circle"
         },
         "mode": "lines",
         "name": "CLORIDRATO DE FLUOXETINA",
         "orientation": "v",
         "showlegend": true,
         "type": "scatter",
         "x": [
          "2014-01-01T00:00:00",
          "2014-02-01T00:00:00",
          "2014-03-01T00:00:00",
          "2014-04-01T00:00:00",
          "2014-05-01T00:00:00",
          "2014-06-01T00:00:00",
          "2014-07-01T00:00:00",
          "2014-08-01T00:00:00",
          "2014-09-01T00:00:00",
          "2014-10-01T00:00:00",
          "2014-11-01T00:00:00",
          "2014-12-01T00:00:00",
          "2015-01-01T00:00:00",
          "2015-02-01T00:00:00",
          "2015-03-01T00:00:00",
          "2015-04-01T00:00:00",
          "2015-05-01T00:00:00",
          "2015-06-01T00:00:00",
          "2015-07-01T00:00:00",
          "2015-08-01T00:00:00",
          "2015-09-01T00:00:00",
          "2015-10-01T00:00:00",
          "2015-11-01T00:00:00",
          "2015-12-01T00:00:00",
          "2016-01-01T00:00:00",
          "2016-02-01T00:00:00",
          "2016-03-01T00:00:00",
          "2016-04-01T00:00:00",
          "2016-05-01T00:00:00",
          "2016-06-01T00:00:00",
          "2016-07-01T00:00:00",
          "2016-08-01T00:00:00",
          "2016-09-01T00:00:00",
          "2016-10-01T00:00:00",
          "2016-11-01T00:00:00",
          "2016-12-01T00:00:00",
          "2017-01-01T00:00:00",
          "2017-02-01T00:00:00",
          "2017-03-01T00:00:00",
          "2017-05-01T00:00:00",
          "2017-06-01T00:00:00",
          "2017-08-01T00:00:00",
          "2017-09-01T00:00:00",
          "2017-10-01T00:00:00",
          "2017-11-01T00:00:00",
          "2017-12-01T00:00:00",
          "2018-03-01T00:00:00",
          "2018-04-01T00:00:00",
          "2018-05-01T00:00:00",
          "2018-08-01T00:00:00",
          "2018-10-01T00:00:00",
          "2018-11-01T00:00:00",
          "2019-05-01T00:00:00",
          "2019-08-01T00:00:00",
          "2019-10-01T00:00:00"
         ],
         "xaxis": "x",
         "y": [
          5055,
          5073,
          5174,
          5241,
          5340,
          5175,
          5618,
          5505,
          5696,
          5885,
          5518,
          5549,
          5303,
          5106,
          5658,
          5369,
          5496,
          5461,
          5557,
          5606,
          5735,
          5801,
          5396,
          5735,
          5204,
          5354,
          5707,
          5373,
          5271,
          5345,
          5247,
          5556,
          5411,
          5462,
          5569,
          5470,
          5182,
          5023,
          5541,
          5425,
          5153,
          5317,
          5064,
          5177,
          5148,
          5124,
          5079,
          5050,
          4910,
          5106,
          5105,
          4925,
          4905,
          4929,
          4982
         ],
         "yaxis": "y"
        },
        {
         "hovertemplate": "PRINCIPIO_ATIVO=ESTOLATO DE ERITROMICINA<br>DATETIME=%{x}<br>count=%{y}<extra></extra>",
         "legendgroup": "ESTOLATO DE ERITROMICINA",
         "line": {
          "color": "#EF553B",
          "dash": "solid"
         },
         "marker": {
          "symbol": "circle"
         },
         "mode": "lines",
         "name": "ESTOLATO DE ERITROMICINA",
         "orientation": "v",
         "showlegend": true,
         "type": "scatter",
         "x": [
          "2014-05-01T00:00:00",
          "2014-07-01T00:00:00",
          "2014-08-01T00:00:00",
          "2014-09-01T00:00:00",
          "2014-10-01T00:00:00",
          "2015-03-01T00:00:00",
          "2015-04-01T00:00:00",
          "2015-05-01T00:00:00",
          "2015-06-01T00:00:00",
          "2015-07-01T00:00:00",
          "2015-08-01T00:00:00",
          "2015-09-01T00:00:00",
          "2015-10-01T00:00:00",
          "2016-03-01T00:00:00",
          "2016-04-01T00:00:00",
          "2016-05-01T00:00:00",
          "2016-06-01T00:00:00",
          "2016-07-01T00:00:00",
          "2016-08-01T00:00:00",
          "2016-09-01T00:00:00",
          "2016-10-01T00:00:00",
          "2017-02-01T00:00:00",
          "2017-03-01T00:00:00",
          "2017-05-01T00:00:00",
          "2017-06-01T00:00:00",
          "2017-07-01T00:00:00",
          "2017-08-01T00:00:00",
          "2017-09-01T00:00:00",
          "2017-10-01T00:00:00",
          "2017-11-01T00:00:00",
          "2018-01-01T00:00:00",
          "2018-02-01T00:00:00",
          "2018-03-01T00:00:00",
          "2018-04-01T00:00:00",
          "2018-05-01T00:00:00",
          "2018-06-01T00:00:00",
          "2018-07-01T00:00:00",
          "2018-08-01T00:00:00",
          "2018-09-01T00:00:00",
          "2018-10-01T00:00:00",
          "2018-11-01T00:00:00",
          "2019-01-01T00:00:00",
          "2019-02-01T00:00:00",
          "2019-03-01T00:00:00",
          "2019-04-01T00:00:00",
          "2019-05-01T00:00:00",
          "2019-07-01T00:00:00",
          "2019-08-01T00:00:00",
          "2019-10-01T00:00:00"
         ],
         "xaxis": "x",
         "y": [
          5494,
          5809,
          5402,
          5588,
          5948,
          5489,
          4988,
          5257,
          5264,
          5643,
          5679,
          5290,
          5323,
          5506,
          5266,
          5417,
          5527,
          5450,
          5958,
          5724,
          5564,
          5033,
          5634,
          5841,
          5234,
          5814,
          5649,
          5074,
          5288,
          5043,
          5168,
          4872,
          5698,
          5566,
          5367,
          5187,
          5368,
          5656,
          5151,
          5875,
          4995,
          5108,
          5339,
          5185,
          5142,
          5320,
          5145,
          5124,
          5050
         ],
         "yaxis": "y"
        },
        {
         "hovertemplate": "PRINCIPIO_ATIVO=CLORIDRATO DE AMITRIPTILINA<br>DATETIME=%{x}<br>count=%{y}<extra></extra>",
         "legendgroup": "CLORIDRATO DE AMITRIPTILINA",
         "line": {
          "color": "#00cc96",
          "dash": "solid"
         },
         "marker": {
          "symbol": "circle"
         },
         "mode": "lines",
         "name": "CLORIDRATO DE AMITRIPTILINA",
         "orientation": "v",
         "showlegend": true,
         "type": "scatter",
         "x": [
          "2014-07-01T00:00:00",
          "2014-09-01T00:00:00",
          "2014-10-01T00:00:00",
          "2017-08-01T00:00:00",
          "2018-08-01T00:00:00",
          "2019-05-01T00:00:00",
          "2019-10-01T00:00:00",
          "2020-07-01T00:00:00",
          "2020-10-01T00:00:00",
          "2020-12-01T00:00:00"
         ],
         "xaxis": "x",
         "y": [
          5070,
          5170,
          5144,
          5173,
          4962,
          4867,
          4908,
          4849,
          4850,
          4857
         ],
         "yaxis": "y"
        },
        {
         "hovertemplate": "PRINCIPIO_ATIVO=CLORIDRATO DE BUPROPIONA<br>DATETIME=%{x}<br>count=%{y}<extra></extra>",
         "legendgroup": "CLORIDRATO DE BUPROPIONA",
         "line": {
          "color": "#ab63fa",
          "dash": "solid"
         },
         "marker": {
          "symbol": "circle"
         },
         "mode": "lines",
         "name": "CLORIDRATO DE BUPROPIONA",
         "orientation": "v",
         "showlegend": true,
         "type": "scatter",
         "x": [
          "2018-10-01T00:00:00",
          "2019-10-01T00:00:00"
         ],
         "xaxis": "x",
         "y": [
          4985,
          4905
         ],
         "yaxis": "y"
        },
        {
         "hovertemplate": "PRINCIPIO_ATIVO=TOPIRAMATO<br>DATETIME=%{x}<br>count=%{y}<extra></extra>",
         "legendgroup": "TOPIRAMATO",
         "line": {
          "color": "#FFA15A",
          "dash": "solid"
         },
         "marker": {
          "symbol": "circle"
         },
         "mode": "lines",
         "name": "TOPIRAMATO",
         "orientation": "v",
         "showlegend": true,
         "type": "scatter",
         "x": [
          "2018-10-01T00:00:00",
          "2019-05-01T00:00:00",
          "2019-10-01T00:00:00",
          "2020-10-01T00:00:00"
         ],
         "xaxis": "x",
         "y": [
          4948,
          4856,
          4919,
          4888
         ],
         "yaxis": "y"
        },
        {
         "hovertemplate": "PRINCIPIO_ATIVO=TESTOSTERONA<br>DATETIME=%{x}<br>count=%{y}<extra></extra>",
         "legendgroup": "TESTOSTERONA",
         "line": {
          "color": "#19d3f3",
          "dash": "solid"
         },
         "marker": {
          "symbol": "circle"
         },
         "mode": "lines",
         "name": "TESTOSTERONA",
         "orientation": "v",
         "showlegend": true,
         "type": "scatter",
         "x": [
          "2019-08-01T00:00:00",
          "2019-09-01T00:00:00",
          "2019-10-01T00:00:00",
          "2020-07-01T00:00:00",
          "2020-08-01T00:00:00",
          "2020-09-01T00:00:00",
          "2020-10-01T00:00:00",
          "2020-11-01T00:00:00",
          "2020-12-01T00:00:00",
          "2021-02-01T00:00:00",
          "2021-03-01T00:00:00",
          "2021-04-01T00:00:00",
          "2021-05-01T00:00:00",
          "2021-06-01T00:00:00",
          "2021-07-01T00:00:00",
          "2021-08-01T00:00:00",
          "2021-09-01T00:00:00",
          "2021-10-01T00:00:00"
         ],
         "xaxis": "x",
         "y": [
          4986,
          4949,
          5113,
          4837,
          4959,
          5189,
          5478,
          5551,
          5769,
          5448,
          6069,
          5751,
          5917,
          6002,
          5940,
          6338,
          6415,
          6313
         ],
         "yaxis": "y"
        },
        {
         "hovertemplate": "PRINCIPIO_ATIVO=GABAPENTINA<br>DATETIME=%{x}<br>count=%{y}<extra></extra>",
         "legendgroup": "GABAPENTINA",
         "line": {
          "color": "#FF6692",
          "dash": "solid"
         },
         "marker": {
          "symbol": "circle"
         },
         "mode": "lines",
         "name": "GABAPENTINA",
         "orientation": "v",
         "showlegend": true,
         "type": "scatter",
         "x": [
          "2019-10-01T00:00:00",
          "2020-03-01T00:00:00",
          "2020-04-01T00:00:00",
          "2020-05-01T00:00:00",
          "2020-06-01T00:00:00",
          "2020-07-01T00:00:00",
          "2020-08-01T00:00:00",
          "2020-09-01T00:00:00",
          "2020-10-01T00:00:00",
          "2020-11-01T00:00:00",
          "2020-12-01T00:00:00",
          "2021-01-01T00:00:00",
          "2021-02-01T00:00:00",
          "2021-03-01T00:00:00",
          "2021-04-01T00:00:00",
          "2021-05-01T00:00:00",
          "2021-06-01T00:00:00",
          "2021-07-01T00:00:00",
          "2021-08-01T00:00:00",
          "2021-09-01T00:00:00",
          "2021-10-01T00:00:00",
          "2021-11-01T00:00:00"
         ],
         "xaxis": "x",
         "y": [
          4954,
          5041,
          4896,
          5245,
          5899,
          6207,
          6308,
          6476,
          6834,
          6567,
          7089,
          6707,
          7089,
          7782,
          7596,
          7747,
          7861,
          7990,
          8171,
          8073,
          7438,
          5903
         ],
         "yaxis": "y"
        }
       ],
       "layout": {
        "legend": {
         "title": {
          "text": "PRINCIPIO_ATIVO"
         },
         "tracegroupgap": 0
        },
        "margin": {
         "t": 60
        },
        "template": {
         "data": {
          "bar": [
           {
            "error_x": {
             "color": "#2a3f5f"
            },
            "error_y": {
             "color": "#2a3f5f"
            },
            "marker": {
             "line": {
              "color": "#E5ECF6",
              "width": 0.5
             },
             "pattern": {
              "fillmode": "overlay",
              "size": 10,
              "solidity": 0.2
             }
            },
            "type": "bar"
           }
          ],
          "barpolar": [
           {
            "marker": {
             "line": {
              "color": "#E5ECF6",
              "width": 0.5
             },
             "pattern": {
              "fillmode": "overlay",
              "size": 10,
              "solidity": 0.2
             }
            },
            "type": "barpolar"
           }
          ],
          "carpet": [
           {
            "aaxis": {
             "endlinecolor": "#2a3f5f",
             "gridcolor": "white",
             "linecolor": "white",
             "minorgridcolor": "white",
             "startlinecolor": "#2a3f5f"
            },
            "baxis": {
             "endlinecolor": "#2a3f5f",
             "gridcolor": "white",
             "linecolor": "white",
             "minorgridcolor": "white",
             "startlinecolor": "#2a3f5f"
            },
            "type": "carpet"
           }
          ],
          "choropleth": [
           {
            "colorbar": {
             "outlinewidth": 0,
             "ticks": ""
            },
            "type": "choropleth"
           }
          ],
          "contour": [
           {
            "colorbar": {
             "outlinewidth": 0,
             "ticks": ""
            },
            "colorscale": [
             [
              0,
              "#0d0887"
             ],
             [
              0.1111111111111111,
              "#46039f"
             ],
             [
              0.2222222222222222,
              "#7201a8"
             ],
             [
              0.3333333333333333,
              "#9c179e"
             ],
             [
              0.4444444444444444,
              "#bd3786"
             ],
             [
              0.5555555555555556,
              "#d8576b"
             ],
             [
              0.6666666666666666,
              "#ed7953"
             ],
             [
              0.7777777777777778,
              "#fb9f3a"
             ],
             [
              0.8888888888888888,
              "#fdca26"
             ],
             [
              1,
              "#f0f921"
             ]
            ],
            "type": "contour"
           }
          ],
          "contourcarpet": [
           {
            "colorbar": {
             "outlinewidth": 0,
             "ticks": ""
            },
            "type": "contourcarpet"
           }
          ],
          "heatmap": [
           {
            "colorbar": {
             "outlinewidth": 0,
             "ticks": ""
            },
            "colorscale": [
             [
              0,
              "#0d0887"
             ],
             [
              0.1111111111111111,
              "#46039f"
             ],
             [
              0.2222222222222222,
              "#7201a8"
             ],
             [
              0.3333333333333333,
              "#9c179e"
             ],
             [
              0.4444444444444444,
              "#bd3786"
             ],
             [
              0.5555555555555556,
              "#d8576b"
             ],
             [
              0.6666666666666666,
              "#ed7953"
             ],
             [
              0.7777777777777778,
              "#fb9f3a"
             ],
             [
              0.8888888888888888,
              "#fdca26"
             ],
             [
              1,
              "#f0f921"
             ]
            ],
            "type": "heatmap"
           }
          ],
          "heatmapgl": [
           {
            "colorbar": {
             "outlinewidth": 0,
             "ticks": ""
            },
            "colorscale": [
             [
              0,
              "#0d0887"
             ],
             [
              0.1111111111111111,
              "#46039f"
             ],
             [
              0.2222222222222222,
              "#7201a8"
             ],
             [
              0.3333333333333333,
              "#9c179e"
             ],
             [
              0.4444444444444444,
              "#bd3786"
             ],
             [
              0.5555555555555556,
              "#d8576b"
             ],
             [
              0.6666666666666666,
              "#ed7953"
             ],
             [
              0.7777777777777778,
              "#fb9f3a"
             ],
             [
              0.8888888888888888,
              "#fdca26"
             ],
             [
              1,
              "#f0f921"
             ]
            ],
            "type": "heatmapgl"
           }
          ],
          "histogram": [
           {
            "marker": {
             "pattern": {
              "fillmode": "overlay",
              "size": 10,
              "solidity": 0.2
             }
            },
            "type": "histogram"
           }
          ],
          "histogram2d": [
           {
            "colorbar": {
             "outlinewidth": 0,
             "ticks": ""
            },
            "colorscale": [
             [
              0,
              "#0d0887"
             ],
             [
              0.1111111111111111,
              "#46039f"
             ],
             [
              0.2222222222222222,
              "#7201a8"
             ],
             [
              0.3333333333333333,
              "#9c179e"
             ],
             [
              0.4444444444444444,
              "#bd3786"
             ],
             [
              0.5555555555555556,
              "#d8576b"
             ],
             [
              0.6666666666666666,
              "#ed7953"
             ],
             [
              0.7777777777777778,
              "#fb9f3a"
             ],
             [
              0.8888888888888888,
              "#fdca26"
             ],
             [
              1,
              "#f0f921"
             ]
            ],
            "type": "histogram2d"
           }
          ],
          "histogram2dcontour": [
           {
            "colorbar": {
             "outlinewidth": 0,
             "ticks": ""
            },
            "colorscale": [
             [
              0,
              "#0d0887"
             ],
             [
              0.1111111111111111,
              "#46039f"
             ],
             [
              0.2222222222222222,
              "#7201a8"
             ],
             [
              0.3333333333333333,
              "#9c179e"
             ],
             [
              0.4444444444444444,
              "#bd3786"
             ],
             [
              0.5555555555555556,
              "#d8576b"
             ],
             [
              0.6666666666666666,
              "#ed7953"
             ],
             [
              0.7777777777777778,
              "#fb9f3a"
             ],
             [
              0.8888888888888888,
              "#fdca26"
             ],
             [
              1,
              "#f0f921"
             ]
            ],
            "type": "histogram2dcontour"
           }
          ],
          "mesh3d": [
           {
            "colorbar": {
             "outlinewidth": 0,
             "ticks": ""
            },
            "type": "mesh3d"
           }
          ],
          "parcoords": [
           {
            "line": {
             "colorbar": {
              "outlinewidth": 0,
              "ticks": ""
             }
            },
            "type": "parcoords"
           }
          ],
          "pie": [
           {
            "automargin": true,
            "type": "pie"
           }
          ],
          "scatter": [
           {
            "fillpattern": {
             "fillmode": "overlay",
             "size": 10,
             "solidity": 0.2
            },
            "type": "scatter"
           }
          ],
          "scatter3d": [
           {
            "line": {
             "colorbar": {
              "outlinewidth": 0,
              "ticks": ""
             }
            },
            "marker": {
             "colorbar": {
              "outlinewidth": 0,
              "ticks": ""
             }
            },
            "type": "scatter3d"
           }
          ],
          "scattercarpet": [
           {
            "marker": {
             "colorbar": {
              "outlinewidth": 0,
              "ticks": ""
             }
            },
            "type": "scattercarpet"
           }
          ],
          "scattergeo": [
           {
            "marker": {
             "colorbar": {
              "outlinewidth": 0,
              "ticks": ""
             }
            },
            "type": "scattergeo"
           }
          ],
          "scattergl": [
           {
            "marker": {
             "colorbar": {
              "outlinewidth": 0,
              "ticks": ""
             }
            },
            "type": "scattergl"
           }
          ],
          "scattermapbox": [
           {
            "marker": {
             "colorbar": {
              "outlinewidth": 0,
              "ticks": ""
             }
            },
            "type": "scattermapbox"
           }
          ],
          "scatterpolar": [
           {
            "marker": {
             "colorbar": {
              "outlinewidth": 0,
              "ticks": ""
             }
            },
            "type": "scatterpolar"
           }
          ],
          "scatterpolargl": [
           {
            "marker": {
             "colorbar": {
              "outlinewidth": 0,
              "ticks": ""
             }
            },
            "type": "scatterpolargl"
           }
          ],
          "scatterternary": [
           {
            "marker": {
             "colorbar": {
              "outlinewidth": 0,
              "ticks": ""
             }
            },
            "type": "scatterternary"
           }
          ],
          "surface": [
           {
            "colorbar": {
             "outlinewidth": 0,
             "ticks": ""
            },
            "colorscale": [
             [
              0,
              "#0d0887"
             ],
             [
              0.1111111111111111,
              "#46039f"
             ],
             [
              0.2222222222222222,
              "#7201a8"
             ],
             [
              0.3333333333333333,
              "#9c179e"
             ],
             [
              0.4444444444444444,
              "#bd3786"
             ],
             [
              0.5555555555555556,
              "#d8576b"
             ],
             [
              0.6666666666666666,
              "#ed7953"
             ],
             [
              0.7777777777777778,
              "#fb9f3a"
             ],
             [
              0.8888888888888888,
              "#fdca26"
             ],
             [
              1,
              "#f0f921"
             ]
            ],
            "type": "surface"
           }
          ],
          "table": [
           {
            "cells": {
             "fill": {
              "color": "#EBF0F8"
             },
             "line": {
              "color": "white"
             }
            },
            "header": {
             "fill": {
              "color": "#C8D4E3"
             },
             "line": {
              "color": "white"
             }
            },
            "type": "table"
           }
          ]
         },
         "layout": {
          "annotationdefaults": {
           "arrowcolor": "#2a3f5f",
           "arrowhead": 0,
           "arrowwidth": 1
          },
          "autotypenumbers": "strict",
          "coloraxis": {
           "colorbar": {
            "outlinewidth": 0,
            "ticks": ""
           }
          },
          "colorscale": {
           "diverging": [
            [
             0,
             "#8e0152"
            ],
            [
             0.1,
             "#c51b7d"
            ],
            [
             0.2,
             "#de77ae"
            ],
            [
             0.3,
             "#f1b6da"
            ],
            [
             0.4,
             "#fde0ef"
            ],
            [
             0.5,
             "#f7f7f7"
            ],
            [
             0.6,
             "#e6f5d0"
            ],
            [
             0.7,
             "#b8e186"
            ],
            [
             0.8,
             "#7fbc41"
            ],
            [
             0.9,
             "#4d9221"
            ],
            [
             1,
             "#276419"
            ]
           ],
           "sequential": [
            [
             0,
             "#0d0887"
            ],
            [
             0.1111111111111111,
             "#46039f"
            ],
            [
             0.2222222222222222,
             "#7201a8"
            ],
            [
             0.3333333333333333,
             "#9c179e"
            ],
            [
             0.4444444444444444,
             "#bd3786"
            ],
            [
             0.5555555555555556,
             "#d8576b"
            ],
            [
             0.6666666666666666,
             "#ed7953"
            ],
            [
             0.7777777777777778,
             "#fb9f3a"
            ],
            [
             0.8888888888888888,
             "#fdca26"
            ],
            [
             1,
             "#f0f921"
            ]
           ],
           "sequentialminus": [
            [
             0,
             "#0d0887"
            ],
            [
             0.1111111111111111,
             "#46039f"
            ],
            [
             0.2222222222222222,
             "#7201a8"
            ],
            [
             0.3333333333333333,
             "#9c179e"
            ],
            [
             0.4444444444444444,
             "#bd3786"
            ],
            [
             0.5555555555555556,
             "#d8576b"
            ],
            [
             0.6666666666666666,
             "#ed7953"
            ],
            [
             0.7777777777777778,
             "#fb9f3a"
            ],
            [
             0.8888888888888888,
             "#fdca26"
            ],
            [
             1,
             "#f0f921"
            ]
           ]
          },
          "colorway": [
           "#636efa",
           "#EF553B",
           "#00cc96",
           "#ab63fa",
           "#FFA15A",
           "#19d3f3",
           "#FF6692",
           "#B6E880",
           "#FF97FF",
           "#FECB52"
          ],
          "font": {
           "color": "#2a3f5f"
          },
          "geo": {
           "bgcolor": "white",
           "lakecolor": "white",
           "landcolor": "#E5ECF6",
           "showlakes": true,
           "showland": true,
           "subunitcolor": "white"
          },
          "hoverlabel": {
           "align": "left"
          },
          "hovermode": "closest",
          "mapbox": {
           "style": "light"
          },
          "paper_bgcolor": "white",
          "plot_bgcolor": "#E5ECF6",
          "polar": {
           "angularaxis": {
            "gridcolor": "white",
            "linecolor": "white",
            "ticks": ""
           },
           "bgcolor": "#E5ECF6",
           "radialaxis": {
            "gridcolor": "white",
            "linecolor": "white",
            "ticks": ""
           }
          },
          "scene": {
           "xaxis": {
            "backgroundcolor": "#E5ECF6",
            "gridcolor": "white",
            "gridwidth": 2,
            "linecolor": "white",
            "showbackground": true,
            "ticks": "",
            "zerolinecolor": "white"
           },
           "yaxis": {
            "backgroundcolor": "#E5ECF6",
            "gridcolor": "white",
            "gridwidth": 2,
            "linecolor": "white",
            "showbackground": true,
            "ticks": "",
            "zerolinecolor": "white"
           },
           "zaxis": {
            "backgroundcolor": "#E5ECF6",
            "gridcolor": "white",
            "gridwidth": 2,
            "linecolor": "white",
            "showbackground": true,
            "ticks": "",
            "zerolinecolor": "white"
           }
          },
          "shapedefaults": {
           "line": {
            "color": "#2a3f5f"
           }
          },
          "ternary": {
           "aaxis": {
            "gridcolor": "white",
            "linecolor": "white",
            "ticks": ""
           },
           "baxis": {
            "gridcolor": "white",
            "linecolor": "white",
            "ticks": ""
           },
           "bgcolor": "#E5ECF6",
           "caxis": {
            "gridcolor": "white",
            "linecolor": "white",
            "ticks": ""
           }
          },
          "title": {
           "x": 0.05
          },
          "xaxis": {
           "automargin": true,
           "gridcolor": "white",
           "linecolor": "white",
           "ticks": "",
           "title": {
            "standoff": 15
           },
           "zerolinecolor": "white",
           "zerolinewidth": 2
          },
          "yaxis": {
           "automargin": true,
           "gridcolor": "white",
           "linecolor": "white",
           "ticks": "",
           "title": {
            "standoff": 15
           },
           "zerolinecolor": "white",
           "zerolinewidth": 2
          }
         }
        },
        "xaxis": {
         "anchor": "y",
         "domain": [
          0,
          1
         ],
         "title": {
          "text": "DATETIME"
         }
        },
        "yaxis": {
         "anchor": "x",
         "domain": [
          0,
          1
         ],
         "title": {
          "text": "count"
         }
        }
       }
      }
     },
     "metadata": {},
     "output_type": "display_data"
    }
   ],
   "source": [
    "#px.line(df, x=df.select('DATETIME').to_series(), y=df.select('count').to_series(), color=df.select('PRINCIPIO_ATIVO').to_series())\n",
    "teste = df.to_pandas()\n",
    "px.line(teste, x='DATETIME', y='count', color='PRINCIPIO_ATIVO')"
   ]
  },
  {
   "cell_type": "code",
   "execution_count": null,
   "metadata": {},
   "outputs": [
    {
     "data": {
      "text/html": [
       "<div>\n",
       "<style scoped>\n",
       "    .dataframe tbody tr th:only-of-type {\n",
       "        vertical-align: middle;\n",
       "    }\n",
       "\n",
       "    .dataframe tbody tr th {\n",
       "        vertical-align: top;\n",
       "    }\n",
       "\n",
       "    .dataframe thead th {\n",
       "        text-align: right;\n",
       "    }\n",
       "\n",
       "    .dataframe td {\n",
       "        white-space: pre;\n",
       "    }\n",
       "\n",
       "    .dataframe td {\n",
       "        padding-top: 0;\n",
       "    }\n",
       "\n",
       "    .dataframe td {\n",
       "        padding-bottom: 0;\n",
       "    }\n",
       "</style>\n",
       "<table border=\"1\" class=\"dataframe\">\n",
       "<small>shape: (160,)</small>\n",
       "<thead>\n",
       "<tr>\n",
       "<th>\n",
       "PRINCIPIO_ATIVO\n",
       "</th>\n",
       "</tr>\n",
       "<tr>\n",
       "<td>\n",
       "str\n",
       "</td>\n",
       "</tr>\n",
       "</thead>\n",
       "<tbody>\n",
       "<tr>\n",
       "<td>\n",
       "&quot;ESTOLATO DE ER...\n",
       "</td>\n",
       "</tr>\n",
       "<tr>\n",
       "<td>\n",
       "&quot;CLORIDRATO DE ...\n",
       "</td>\n",
       "</tr>\n",
       "<tr>\n",
       "<td>\n",
       "&quot;ESTOLATO DE ER...\n",
       "</td>\n",
       "</tr>\n",
       "<tr>\n",
       "<td>\n",
       "&quot;CLORIDRATO DE ...\n",
       "</td>\n",
       "</tr>\n",
       "<tr>\n",
       "<td>\n",
       "&quot;CLORIDRATO DE ...\n",
       "</td>\n",
       "</tr>\n",
       "<tr>\n",
       "<td>\n",
       "&quot;ESTOLATO DE ER...\n",
       "</td>\n",
       "</tr>\n",
       "<tr>\n",
       "<td>\n",
       "&quot;CLORIDRATO DE ...\n",
       "</td>\n",
       "</tr>\n",
       "<tr>\n",
       "<td>\n",
       "&quot;CLORIDRATO DE ...\n",
       "</td>\n",
       "</tr>\n",
       "<tr>\n",
       "<td>\n",
       "&quot;CLORIDRATO DE ...\n",
       "</td>\n",
       "</tr>\n",
       "<tr>\n",
       "<td>\n",
       "&quot;ESTOLATO DE ER...\n",
       "</td>\n",
       "</tr>\n",
       "<tr>\n",
       "<td>\n",
       "&quot;ESTOLATO DE ER...\n",
       "</td>\n",
       "</tr>\n",
       "<tr>\n",
       "<td>\n",
       "&quot;CLORIDRATO DE ...\n",
       "</td>\n",
       "</tr>\n",
       "<tr>\n",
       "<td>\n",
       "...\n",
       "</td>\n",
       "</tr>\n",
       "<tr>\n",
       "<td>\n",
       "&quot;GABAPENTINA&quot;\n",
       "</td>\n",
       "</tr>\n",
       "<tr>\n",
       "<td>\n",
       "&quot;GABAPENTINA&quot;\n",
       "</td>\n",
       "</tr>\n",
       "<tr>\n",
       "<td>\n",
       "&quot;TESTOSTERONA&quot;\n",
       "</td>\n",
       "</tr>\n",
       "<tr>\n",
       "<td>\n",
       "&quot;TESTOSTERONA&quot;\n",
       "</td>\n",
       "</tr>\n",
       "<tr>\n",
       "<td>\n",
       "&quot;TESTOSTERONA&quot;\n",
       "</td>\n",
       "</tr>\n",
       "<tr>\n",
       "<td>\n",
       "&quot;TESTOSTERONA&quot;\n",
       "</td>\n",
       "</tr>\n",
       "<tr>\n",
       "<td>\n",
       "&quot;TESTOSTERONA&quot;\n",
       "</td>\n",
       "</tr>\n",
       "<tr>\n",
       "<td>\n",
       "&quot;TESTOSTERONA&quot;\n",
       "</td>\n",
       "</tr>\n",
       "<tr>\n",
       "<td>\n",
       "&quot;TESTOSTERONA&quot;\n",
       "</td>\n",
       "</tr>\n",
       "<tr>\n",
       "<td>\n",
       "&quot;GABAPENTINA&quot;\n",
       "</td>\n",
       "</tr>\n",
       "<tr>\n",
       "<td>\n",
       "&quot;TESTOSTERONA&quot;\n",
       "</td>\n",
       "</tr>\n",
       "<tr>\n",
       "<td>\n",
       "&quot;TESTOSTERONA&quot;\n",
       "</td>\n",
       "</tr>\n",
       "</tbody>\n",
       "</table>\n",
       "</div>"
      ],
      "text/plain": [
       "shape: (160,)\n",
       "Series: 'PRINCIPIO_ATIVO' [str]\n",
       "[\n",
       "\t\"ESTOLATO DE ER...\n",
       "\t\"CLORIDRATO DE ...\n",
       "\t\"ESTOLATO DE ER...\n",
       "\t\"CLORIDRATO DE ...\n",
       "\t\"CLORIDRATO DE ...\n",
       "\t\"ESTOLATO DE ER...\n",
       "\t\"CLORIDRATO DE ...\n",
       "\t\"CLORIDRATO DE ...\n",
       "\t\"CLORIDRATO DE ...\n",
       "\t\"ESTOLATO DE ER...\n",
       "\t\"ESTOLATO DE ER...\n",
       "\t\"CLORIDRATO DE ...\n",
       "\t...\n",
       "\t\"GABAPENTINA\"\n",
       "\t\"GABAPENTINA\"\n",
       "\t\"GABAPENTINA\"\n",
       "\t\"TESTOSTERONA\"\n",
       "\t\"TESTOSTERONA\"\n",
       "\t\"TESTOSTERONA\"\n",
       "\t\"TESTOSTERONA\"\n",
       "\t\"TESTOSTERONA\"\n",
       "\t\"TESTOSTERONA\"\n",
       "\t\"TESTOSTERONA\"\n",
       "\t\"GABAPENTINA\"\n",
       "\t\"TESTOSTERONA\"\n",
       "\t\"TESTOSTERONA\"\n",
       "]"
      ]
     },
     "execution_count": 127,
     "metadata": {},
     "output_type": "execute_result"
    }
   ],
   "source": [
    "df.select('PRINCIPIO_ATIVO').to_series()"
   ]
  },
  {
   "cell_type": "code",
   "execution_count": null,
   "metadata": {},
   "outputs": [],
   "source": []
  }
 ],
 "metadata": {
  "kernelspec": {
   "display_name": "polars3",
   "language": "python",
   "name": "python3"
  },
  "language_info": {
   "codemirror_mode": {
    "name": "ipython",
    "version": 3
   },
   "file_extension": ".py",
   "mimetype": "text/x-python",
   "name": "python",
   "nbconvert_exporter": "python",
   "pygments_lexer": "ipython3",
   "version": "3.10.9"
  },
  "orig_nbformat": 4,
  "vscode": {
   "interpreter": {
    "hash": "cd51970b8eaab2906b8efb04c61196ca2335f67815466ea79afc0fe862a18057"
   }
  }
 },
 "nbformat": 4,
 "nbformat_minor": 2
}
