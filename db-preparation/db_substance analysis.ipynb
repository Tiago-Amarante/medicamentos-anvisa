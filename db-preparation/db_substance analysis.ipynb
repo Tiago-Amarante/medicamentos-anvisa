{
 "cells": [
  {
   "cell_type": "code",
   "execution_count": 1,
   "metadata": {},
   "outputs": [],
   "source": [
    "import polars as pl\n",
    "import pandas as pd\n",
    "import plotly.express as px \n",
    "import pyarrow\n",
    "from datetime import datetime\n",
    "import plotly.graph_objects as go\n",
    "from plotly.subplots import make_subplots\n"
   ]
  },
  {
   "cell_type": "code",
   "execution_count": 2,
   "metadata": {},
   "outputs": [
    {
     "data": {
      "text/html": [
       "<div>\n",
       "<style scoped>\n",
       "    .dataframe tbody tr th:only-of-type {\n",
       "        vertical-align: middle;\n",
       "    }\n",
       "\n",
       "    .dataframe tbody tr th {\n",
       "        vertical-align: top;\n",
       "    }\n",
       "\n",
       "    .dataframe thead th {\n",
       "        text-align: right;\n",
       "    }\n",
       "\n",
       "    .dataframe td {\n",
       "        white-space: pre;\n",
       "    }\n",
       "\n",
       "    .dataframe td {\n",
       "        padding-top: 0;\n",
       "    }\n",
       "\n",
       "    .dataframe td {\n",
       "        padding-bottom: 0;\n",
       "    }\n",
       "</style>\n",
       "<table border=\"1\" class=\"dataframe\">\n",
       "<small>shape: (5, 4)</small>\n",
       "<thead>\n",
       "<tr>\n",
       "<th>\n",
       "PRINCIPIO_ATIVO\n",
       "</th>\n",
       "<th>\n",
       "UF_VENDA\n",
       "</th>\n",
       "<th>\n",
       "DATA\n",
       "</th>\n",
       "<th>\n",
       "count\n",
       "</th>\n",
       "</tr>\n",
       "<tr>\n",
       "<td>\n",
       "str\n",
       "</td>\n",
       "<td>\n",
       "str\n",
       "</td>\n",
       "<td>\n",
       "i64\n",
       "</td>\n",
       "<td>\n",
       "i64\n",
       "</td>\n",
       "</tr>\n",
       "</thead>\n",
       "<tbody>\n",
       "<tr>\n",
       "<td>\n",
       "&quot;ESTOLATO DE ER...\n",
       "</td>\n",
       "<td>\n",
       "&quot;SP&quot;\n",
       "</td>\n",
       "<td>\n",
       "102014\n",
       "</td>\n",
       "<td>\n",
       "5948\n",
       "</td>\n",
       "</tr>\n",
       "<tr>\n",
       "<td>\n",
       "&quot;CLORIDRATO DE ...\n",
       "</td>\n",
       "<td>\n",
       "&quot;SP&quot;\n",
       "</td>\n",
       "<td>\n",
       "102014\n",
       "</td>\n",
       "<td>\n",
       "5885\n",
       "</td>\n",
       "</tr>\n",
       "<tr>\n",
       "<td>\n",
       "&quot;ESTOLATO DE ER...\n",
       "</td>\n",
       "<td>\n",
       "&quot;SP&quot;\n",
       "</td>\n",
       "<td>\n",
       "72014\n",
       "</td>\n",
       "<td>\n",
       "5809\n",
       "</td>\n",
       "</tr>\n",
       "<tr>\n",
       "<td>\n",
       "&quot;CLORIDRATO DE ...\n",
       "</td>\n",
       "<td>\n",
       "&quot;SP&quot;\n",
       "</td>\n",
       "<td>\n",
       "92014\n",
       "</td>\n",
       "<td>\n",
       "5696\n",
       "</td>\n",
       "</tr>\n",
       "<tr>\n",
       "<td>\n",
       "&quot;CLORIDRATO DE ...\n",
       "</td>\n",
       "<td>\n",
       "&quot;SP&quot;\n",
       "</td>\n",
       "<td>\n",
       "72014\n",
       "</td>\n",
       "<td>\n",
       "5618\n",
       "</td>\n",
       "</tr>\n",
       "</tbody>\n",
       "</table>\n",
       "</div>"
      ],
      "text/plain": [
       "shape: (5, 4)\n",
       "┌──────────────────────────┬──────────┬────────┬───────┐\n",
       "│ PRINCIPIO_ATIVO          ┆ UF_VENDA ┆ DATA   ┆ count │\n",
       "│ ---                      ┆ ---      ┆ ---    ┆ ---   │\n",
       "│ str                      ┆ str      ┆ i64    ┆ i64   │\n",
       "╞══════════════════════════╪══════════╪════════╪═══════╡\n",
       "│ ESTOLATO DE ERITROMICINA ┆ SP       ┆ 102014 ┆ 5948  │\n",
       "│ CLORIDRATO DE FLUOXETINA ┆ SP       ┆ 102014 ┆ 5885  │\n",
       "│ ESTOLATO DE ERITROMICINA ┆ SP       ┆ 72014  ┆ 5809  │\n",
       "│ CLORIDRATO DE FLUOXETINA ┆ SP       ┆ 92014  ┆ 5696  │\n",
       "│ CLORIDRATO DE FLUOXETINA ┆ SP       ┆ 72014  ┆ 5618  │\n",
       "└──────────────────────────┴──────────┴────────┴───────┘"
      ]
     },
     "execution_count": 2,
     "metadata": {},
     "output_type": "execute_result"
    }
   ],
   "source": [
    "lf = pl.scan_csv('D:\\Base_de_dados_anvisa\\Top10_substances.csv')\n",
    "\n",
    "lf.head().collect()"
   ]
  },
  {
   "cell_type": "code",
   "execution_count": 3,
   "metadata": {},
   "outputs": [
    {
     "data": {
      "text/html": [
       "<div>\n",
       "<style scoped>\n",
       "    .dataframe tbody tr th:only-of-type {\n",
       "        vertical-align: middle;\n",
       "    }\n",
       "\n",
       "    .dataframe tbody tr th {\n",
       "        vertical-align: top;\n",
       "    }\n",
       "\n",
       "    .dataframe thead th {\n",
       "        text-align: right;\n",
       "    }\n",
       "\n",
       "    .dataframe td {\n",
       "        white-space: pre;\n",
       "    }\n",
       "\n",
       "    .dataframe td {\n",
       "        padding-top: 0;\n",
       "    }\n",
       "\n",
       "    .dataframe td {\n",
       "        padding-bottom: 0;\n",
       "    }\n",
       "</style>\n",
       "<table border=\"1\" class=\"dataframe\">\n",
       "<small>shape: (5, 2)</small>\n",
       "<thead>\n",
       "<tr>\n",
       "<th>\n",
       "Mês\n",
       "</th>\n",
       "<th>\n",
       "Hipertrofia: (Brasil)\n",
       "</th>\n",
       "</tr>\n",
       "<tr>\n",
       "<td>\n",
       "str\n",
       "</td>\n",
       "<td>\n",
       "i64\n",
       "</td>\n",
       "</tr>\n",
       "</thead>\n",
       "<tbody>\n",
       "<tr>\n",
       "<td>\n",
       "&quot;2014-01&quot;\n",
       "</td>\n",
       "<td>\n",
       "97\n",
       "</td>\n",
       "</tr>\n",
       "<tr>\n",
       "<td>\n",
       "&quot;2014-02&quot;\n",
       "</td>\n",
       "<td>\n",
       "98\n",
       "</td>\n",
       "</tr>\n",
       "<tr>\n",
       "<td>\n",
       "&quot;2014-03&quot;\n",
       "</td>\n",
       "<td>\n",
       "84\n",
       "</td>\n",
       "</tr>\n",
       "<tr>\n",
       "<td>\n",
       "&quot;2014-04&quot;\n",
       "</td>\n",
       "<td>\n",
       "80\n",
       "</td>\n",
       "</tr>\n",
       "<tr>\n",
       "<td>\n",
       "&quot;2014-05&quot;\n",
       "</td>\n",
       "<td>\n",
       "82\n",
       "</td>\n",
       "</tr>\n",
       "</tbody>\n",
       "</table>\n",
       "</div>"
      ],
      "text/plain": [
       "shape: (5, 2)\n",
       "┌─────────┬───────────────────────┐\n",
       "│ Mês     ┆ Hipertrofia: (Brasil) │\n",
       "│ ---     ┆ ---                   │\n",
       "│ str     ┆ i64                   │\n",
       "╞═════════╪═══════════════════════╡\n",
       "│ 2014-01 ┆ 97                    │\n",
       "│ 2014-02 ┆ 98                    │\n",
       "│ 2014-03 ┆ 84                    │\n",
       "│ 2014-04 ┆ 80                    │\n",
       "│ 2014-05 ┆ 82                    │\n",
       "└─────────┴───────────────────────┘"
      ]
     },
     "execution_count": 3,
     "metadata": {},
     "output_type": "execute_result"
    }
   ],
   "source": [
    "lf_hp = pl.scan_csv('D:\\Base_de_dados_anvisa\\hipertrofia.csv')\n",
    "\n",
    "lf_hp.head().collect()"
   ]
  },
  {
   "cell_type": "code",
   "execution_count": 4,
   "metadata": {},
   "outputs": [
    {
     "data": {
      "text/html": [
       "<div>\n",
       "<style scoped>\n",
       "    .dataframe tbody tr th:only-of-type {\n",
       "        vertical-align: middle;\n",
       "    }\n",
       "\n",
       "    .dataframe tbody tr th {\n",
       "        vertical-align: top;\n",
       "    }\n",
       "\n",
       "    .dataframe thead th {\n",
       "        text-align: right;\n",
       "    }\n",
       "\n",
       "    .dataframe td {\n",
       "        white-space: pre;\n",
       "    }\n",
       "\n",
       "    .dataframe td {\n",
       "        padding-top: 0;\n",
       "    }\n",
       "\n",
       "    .dataframe td {\n",
       "        padding-bottom: 0;\n",
       "    }\n",
       "</style>\n",
       "<table border=\"1\" class=\"dataframe\">\n",
       "<small>shape: (5, 2)</small>\n",
       "<thead>\n",
       "<tr>\n",
       "<th>\n",
       "Mês\n",
       "</th>\n",
       "<th>\n",
       "impotência: (Brasil)\n",
       "</th>\n",
       "</tr>\n",
       "<tr>\n",
       "<td>\n",
       "str\n",
       "</td>\n",
       "<td>\n",
       "i64\n",
       "</td>\n",
       "</tr>\n",
       "</thead>\n",
       "<tbody>\n",
       "<tr>\n",
       "<td>\n",
       "&quot;2014-01&quot;\n",
       "</td>\n",
       "<td>\n",
       "19\n",
       "</td>\n",
       "</tr>\n",
       "<tr>\n",
       "<td>\n",
       "&quot;2014-02&quot;\n",
       "</td>\n",
       "<td>\n",
       "18\n",
       "</td>\n",
       "</tr>\n",
       "<tr>\n",
       "<td>\n",
       "&quot;2014-03&quot;\n",
       "</td>\n",
       "<td>\n",
       "20\n",
       "</td>\n",
       "</tr>\n",
       "<tr>\n",
       "<td>\n",
       "&quot;2014-04&quot;\n",
       "</td>\n",
       "<td>\n",
       "20\n",
       "</td>\n",
       "</tr>\n",
       "<tr>\n",
       "<td>\n",
       "&quot;2014-05&quot;\n",
       "</td>\n",
       "<td>\n",
       "22\n",
       "</td>\n",
       "</tr>\n",
       "</tbody>\n",
       "</table>\n",
       "</div>"
      ],
      "text/plain": [
       "shape: (5, 2)\n",
       "┌─────────┬──────────────────────┐\n",
       "│ Mês     ┆ impotência: (Brasil) │\n",
       "│ ---     ┆ ---                  │\n",
       "│ str     ┆ i64                  │\n",
       "╞═════════╪══════════════════════╡\n",
       "│ 2014-01 ┆ 19                   │\n",
       "│ 2014-02 ┆ 18                   │\n",
       "│ 2014-03 ┆ 20                   │\n",
       "│ 2014-04 ┆ 20                   │\n",
       "│ 2014-05 ┆ 22                   │\n",
       "└─────────┴──────────────────────┘"
      ]
     },
     "execution_count": 4,
     "metadata": {},
     "output_type": "execute_result"
    }
   ],
   "source": [
    "lf_gt = pl.scan_csv('D:\\Base_de_dados_anvisa\\multiTimeline.csv')\n",
    "\n",
    "lf_gt.head().collect()"
   ]
  },
  {
   "cell_type": "code",
   "execution_count": 5,
   "metadata": {},
   "outputs": [],
   "source": [
    "def correct_data(LazyFrame, col_name):\n",
    "    z=8\n",
    "    q = (\n",
    "        lf\n",
    "        .with_columns(\n",
    "            pl.col(col_name)\n",
    "            .cast(pl.Utf8)\n",
    "        )\n",
    "        .with_columns(\n",
    "            pl.when(\n",
    "                pl.col(col_name).cast(pl.Utf8).str.lengths() > z\n",
    "            )\n",
    "            .then(\n",
    "                pl.col(col_name).cast(pl.Utf8)\n",
    "            )\n",
    "            .otherwise(\n",
    "                pl.concat_str([pl.lit(\"0\" * z), pl.col(col_name).cast(pl.Utf8)]).str.slice(-z)\n",
    "            )\n",
    "            .alias(\"DATETIME\")\n",
    "        )\n",
    "        .with_columns(\n",
    "            pl.col('DATETIME').str.replace('00','01').alias('DATETIME')\n",
    "        )\n",
    "        .with_columns(\n",
    "            pl.col('DATETIME').str.strptime(pl.Date, fmt='%d%m%Y').cast(pl.Datetime)\n",
    "        )\n",
    "        .filter(\n",
    "            pl.col('DATETIME') <= pl.lit((datetime(2021, 7, 1)))\n",
    "        )\n",
    "        .sort(\n",
    "            by=pl.col('DATETIME')\n",
    "        )\n",
    "\n",
    "    )\n",
    "    df = q.collect()\n",
    "    \n",
    "    return df\n"
   ]
  },
  {
   "cell_type": "code",
   "execution_count": 6,
   "metadata": {},
   "outputs": [],
   "source": [
    "# Convert str to datetime from google trends csv\n",
    "def googleLFDataPrep(lf):   \n",
    "    lf_gt =(\n",
    "             lf\n",
    "            .with_columns(\n",
    "                pl.col('Mês').str.strptime(pl.Date, fmt='%Y-%m').cast(pl.Datetime)\n",
    "            )\n",
    "    ).collect()\n",
    "    \n",
    "    return lf_gt"
   ]
  },
  {
   "cell_type": "code",
   "execution_count": 7,
   "metadata": {},
   "outputs": [
    {
     "data": {
      "text/html": [
       "<div>\n",
       "<style scoped>\n",
       "    .dataframe tbody tr th:only-of-type {\n",
       "        vertical-align: middle;\n",
       "    }\n",
       "\n",
       "    .dataframe tbody tr th {\n",
       "        vertical-align: top;\n",
       "    }\n",
       "\n",
       "    .dataframe thead th {\n",
       "        text-align: right;\n",
       "    }\n",
       "\n",
       "    .dataframe td {\n",
       "        white-space: pre;\n",
       "    }\n",
       "\n",
       "    .dataframe td {\n",
       "        padding-top: 0;\n",
       "    }\n",
       "\n",
       "    .dataframe td {\n",
       "        padding-bottom: 0;\n",
       "    }\n",
       "</style>\n",
       "<table border=\"1\" class=\"dataframe\">\n",
       "<small>shape: (31824, 5)</small>\n",
       "<thead>\n",
       "<tr>\n",
       "<th>\n",
       "PRINCIPIO_ATIVO\n",
       "</th>\n",
       "<th>\n",
       "UF_VENDA\n",
       "</th>\n",
       "<th>\n",
       "DATA\n",
       "</th>\n",
       "<th>\n",
       "count\n",
       "</th>\n",
       "<th>\n",
       "DATETIME\n",
       "</th>\n",
       "</tr>\n",
       "<tr>\n",
       "<td>\n",
       "str\n",
       "</td>\n",
       "<td>\n",
       "str\n",
       "</td>\n",
       "<td>\n",
       "str\n",
       "</td>\n",
       "<td>\n",
       "i64\n",
       "</td>\n",
       "<td>\n",
       "datetime[μs]\n",
       "</td>\n",
       "</tr>\n",
       "</thead>\n",
       "<tbody>\n",
       "<tr>\n",
       "<td>\n",
       "&quot;CLORIDRATO DE ...\n",
       "</td>\n",
       "<td>\n",
       "&quot;SP&quot;\n",
       "</td>\n",
       "<td>\n",
       "&quot;12014&quot;\n",
       "</td>\n",
       "<td>\n",
       "5055\n",
       "</td>\n",
       "<td>\n",
       "2014-01-01 00:00:00\n",
       "</td>\n",
       "</tr>\n",
       "<tr>\n",
       "<td>\n",
       "&quot;CLORIDRATO DE ...\n",
       "</td>\n",
       "<td>\n",
       "&quot;SP&quot;\n",
       "</td>\n",
       "<td>\n",
       "&quot;12014&quot;\n",
       "</td>\n",
       "<td>\n",
       "4869\n",
       "</td>\n",
       "<td>\n",
       "2014-01-01 00:00:00\n",
       "</td>\n",
       "</tr>\n",
       "<tr>\n",
       "<td>\n",
       "&quot;ESTOLATO DE ER...\n",
       "</td>\n",
       "<td>\n",
       "&quot;SP&quot;\n",
       "</td>\n",
       "<td>\n",
       "&quot;12014&quot;\n",
       "</td>\n",
       "<td>\n",
       "4218\n",
       "</td>\n",
       "<td>\n",
       "2014-01-01 00:00:00\n",
       "</td>\n",
       "</tr>\n",
       "<tr>\n",
       "<td>\n",
       "&quot;CLORIDRATO DE ...\n",
       "</td>\n",
       "<td>\n",
       "&quot;SP&quot;\n",
       "</td>\n",
       "<td>\n",
       "&quot;12014&quot;\n",
       "</td>\n",
       "<td>\n",
       "3976\n",
       "</td>\n",
       "<td>\n",
       "2014-01-01 00:00:00\n",
       "</td>\n",
       "</tr>\n",
       "<tr>\n",
       "<td>\n",
       "&quot;TOPIRAMATO&quot;\n",
       "</td>\n",
       "<td>\n",
       "&quot;SP&quot;\n",
       "</td>\n",
       "<td>\n",
       "&quot;12014&quot;\n",
       "</td>\n",
       "<td>\n",
       "3643\n",
       "</td>\n",
       "<td>\n",
       "2014-01-01 00:00:00\n",
       "</td>\n",
       "</tr>\n",
       "<tr>\n",
       "<td>\n",
       "&quot;CLORIDRATO DE ...\n",
       "</td>\n",
       "<td>\n",
       "&quot;SP&quot;\n",
       "</td>\n",
       "<td>\n",
       "&quot;12014&quot;\n",
       "</td>\n",
       "<td>\n",
       "3443\n",
       "</td>\n",
       "<td>\n",
       "2014-01-01 00:00:00\n",
       "</td>\n",
       "</tr>\n",
       "<tr>\n",
       "<td>\n",
       "&quot;CLORIDRATO DE ...\n",
       "</td>\n",
       "<td>\n",
       "&quot;SP&quot;\n",
       "</td>\n",
       "<td>\n",
       "&quot;12014&quot;\n",
       "</td>\n",
       "<td>\n",
       "3177\n",
       "</td>\n",
       "<td>\n",
       "2014-01-01 00:00:00\n",
       "</td>\n",
       "</tr>\n",
       "<tr>\n",
       "<td>\n",
       "&quot;CLORIDRATO DE ...\n",
       "</td>\n",
       "<td>\n",
       "&quot;SP&quot;\n",
       "</td>\n",
       "<td>\n",
       "&quot;12014&quot;\n",
       "</td>\n",
       "<td>\n",
       "2365\n",
       "</td>\n",
       "<td>\n",
       "2014-01-01 00:00:00\n",
       "</td>\n",
       "</tr>\n",
       "<tr>\n",
       "<td>\n",
       "&quot;GABAPENTINA&quot;\n",
       "</td>\n",
       "<td>\n",
       "&quot;SP&quot;\n",
       "</td>\n",
       "<td>\n",
       "&quot;12014&quot;\n",
       "</td>\n",
       "<td>\n",
       "1841\n",
       "</td>\n",
       "<td>\n",
       "2014-01-01 00:00:00\n",
       "</td>\n",
       "</tr>\n",
       "<tr>\n",
       "<td>\n",
       "&quot;CLORIDRATO DE ...\n",
       "</td>\n",
       "<td>\n",
       "&quot;MG&quot;\n",
       "</td>\n",
       "<td>\n",
       "&quot;12014&quot;\n",
       "</td>\n",
       "<td>\n",
       "1725\n",
       "</td>\n",
       "<td>\n",
       "2014-01-01 00:00:00\n",
       "</td>\n",
       "</tr>\n",
       "<tr>\n",
       "<td>\n",
       "&quot;CLORIDRATO DE ...\n",
       "</td>\n",
       "<td>\n",
       "&quot;PR&quot;\n",
       "</td>\n",
       "<td>\n",
       "&quot;12014&quot;\n",
       "</td>\n",
       "<td>\n",
       "1574\n",
       "</td>\n",
       "<td>\n",
       "2014-01-01 00:00:00\n",
       "</td>\n",
       "</tr>\n",
       "<tr>\n",
       "<td>\n",
       "&quot;CLORIDRATO DE ...\n",
       "</td>\n",
       "<td>\n",
       "&quot;MG&quot;\n",
       "</td>\n",
       "<td>\n",
       "&quot;12014&quot;\n",
       "</td>\n",
       "<td>\n",
       "1524\n",
       "</td>\n",
       "<td>\n",
       "2014-01-01 00:00:00\n",
       "</td>\n",
       "</tr>\n",
       "<tr>\n",
       "<td>\n",
       "...\n",
       "</td>\n",
       "<td>\n",
       "...\n",
       "</td>\n",
       "<td>\n",
       "...\n",
       "</td>\n",
       "<td>\n",
       "...\n",
       "</td>\n",
       "<td>\n",
       "...\n",
       "</td>\n",
       "</tr>\n",
       "<tr>\n",
       "<td>\n",
       "&quot;METILTESTOSTER...\n",
       "</td>\n",
       "<td>\n",
       "&quot;PI&quot;\n",
       "</td>\n",
       "<td>\n",
       "&quot;72021&quot;\n",
       "</td>\n",
       "<td>\n",
       "3\n",
       "</td>\n",
       "<td>\n",
       "2021-07-01 00:00:00\n",
       "</td>\n",
       "</tr>\n",
       "<tr>\n",
       "<td>\n",
       "&quot;UNDECILATO DE ...\n",
       "</td>\n",
       "<td>\n",
       "&quot;AP&quot;\n",
       "</td>\n",
       "<td>\n",
       "&quot;72021&quot;\n",
       "</td>\n",
       "<td>\n",
       "2\n",
       "</td>\n",
       "<td>\n",
       "2021-07-01 00:00:00\n",
       "</td>\n",
       "</tr>\n",
       "<tr>\n",
       "<td>\n",
       "&quot;CLORIDRATO DE ...\n",
       "</td>\n",
       "<td>\n",
       "&quot;SE&quot;\n",
       "</td>\n",
       "<td>\n",
       "&quot;72021&quot;\n",
       "</td>\n",
       "<td>\n",
       "2\n",
       "</td>\n",
       "<td>\n",
       "2021-07-01 00:00:00\n",
       "</td>\n",
       "</tr>\n",
       "<tr>\n",
       "<td>\n",
       "&quot;UNDECILATO DE ...\n",
       "</td>\n",
       "<td>\n",
       "&quot;AL&quot;\n",
       "</td>\n",
       "<td>\n",
       "&quot;72021&quot;\n",
       "</td>\n",
       "<td>\n",
       "1\n",
       "</td>\n",
       "<td>\n",
       "2021-07-01 00:00:00\n",
       "</td>\n",
       "</tr>\n",
       "<tr>\n",
       "<td>\n",
       "&quot;UNDECILATO DE ...\n",
       "</td>\n",
       "<td>\n",
       "&quot;MA&quot;\n",
       "</td>\n",
       "<td>\n",
       "&quot;72021&quot;\n",
       "</td>\n",
       "<td>\n",
       "1\n",
       "</td>\n",
       "<td>\n",
       "2021-07-01 00:00:00\n",
       "</td>\n",
       "</tr>\n",
       "<tr>\n",
       "<td>\n",
       "&quot;PROPIONATO DE ...\n",
       "</td>\n",
       "<td>\n",
       "&quot;PI&quot;\n",
       "</td>\n",
       "<td>\n",
       "&quot;72021&quot;\n",
       "</td>\n",
       "<td>\n",
       "1\n",
       "</td>\n",
       "<td>\n",
       "2021-07-01 00:00:00\n",
       "</td>\n",
       "</tr>\n",
       "<tr>\n",
       "<td>\n",
       "&quot;METILTESTOSTER...\n",
       "</td>\n",
       "<td>\n",
       "&quot;MA&quot;\n",
       "</td>\n",
       "<td>\n",
       "&quot;72021&quot;\n",
       "</td>\n",
       "<td>\n",
       "1\n",
       "</td>\n",
       "<td>\n",
       "2021-07-01 00:00:00\n",
       "</td>\n",
       "</tr>\n",
       "<tr>\n",
       "<td>\n",
       "&quot;METILTESTOSTER...\n",
       "</td>\n",
       "<td>\n",
       "&quot;AL&quot;\n",
       "</td>\n",
       "<td>\n",
       "&quot;72021&quot;\n",
       "</td>\n",
       "<td>\n",
       "1\n",
       "</td>\n",
       "<td>\n",
       "2021-07-01 00:00:00\n",
       "</td>\n",
       "</tr>\n",
       "<tr>\n",
       "<td>\n",
       "&quot;METILTESTOSTER...\n",
       "</td>\n",
       "<td>\n",
       "&quot;SE&quot;\n",
       "</td>\n",
       "<td>\n",
       "&quot;72021&quot;\n",
       "</td>\n",
       "<td>\n",
       "1\n",
       "</td>\n",
       "<td>\n",
       "2021-07-01 00:00:00\n",
       "</td>\n",
       "</tr>\n",
       "<tr>\n",
       "<td>\n",
       "&quot;DECANOATO DE T...\n",
       "</td>\n",
       "<td>\n",
       "&quot;SP&quot;\n",
       "</td>\n",
       "<td>\n",
       "&quot;72021&quot;\n",
       "</td>\n",
       "<td>\n",
       "1\n",
       "</td>\n",
       "<td>\n",
       "2021-07-01 00:00:00\n",
       "</td>\n",
       "</tr>\n",
       "<tr>\n",
       "<td>\n",
       "&quot;DECANOATO DE T...\n",
       "</td>\n",
       "<td>\n",
       "&quot;BA&quot;\n",
       "</td>\n",
       "<td>\n",
       "&quot;72021&quot;\n",
       "</td>\n",
       "<td>\n",
       "1\n",
       "</td>\n",
       "<td>\n",
       "2021-07-01 00:00:00\n",
       "</td>\n",
       "</tr>\n",
       "<tr>\n",
       "<td>\n",
       "&quot;CIPIONATO DE T...\n",
       "</td>\n",
       "<td>\n",
       "&quot;ES&quot;\n",
       "</td>\n",
       "<td>\n",
       "&quot;72021&quot;\n",
       "</td>\n",
       "<td>\n",
       "1\n",
       "</td>\n",
       "<td>\n",
       "2021-07-01 00:00:00\n",
       "</td>\n",
       "</tr>\n",
       "</tbody>\n",
       "</table>\n",
       "</div>"
      ],
      "text/plain": [
       "shape: (31824, 5)\n",
       "┌─────────────────────────────┬──────────┬───────┬───────┬─────────────────────┐\n",
       "│ PRINCIPIO_ATIVO             ┆ UF_VENDA ┆ DATA  ┆ count ┆ DATETIME            │\n",
       "│ ---                         ┆ ---      ┆ ---   ┆ ---   ┆ ---                 │\n",
       "│ str                         ┆ str      ┆ str   ┆ i64   ┆ datetime[μs]        │\n",
       "╞═════════════════════════════╪══════════╪═══════╪═══════╪═════════════════════╡\n",
       "│ CLORIDRATO DE FLUOXETINA    ┆ SP       ┆ 12014 ┆ 5055  ┆ 2014-01-01 00:00:00 │\n",
       "│ CLORIDRATO DE AMITRIPTILINA ┆ SP       ┆ 12014 ┆ 4869  ┆ 2014-01-01 00:00:00 │\n",
       "│ ESTOLATO DE ERITROMICINA    ┆ SP       ┆ 12014 ┆ 4218  ┆ 2014-01-01 00:00:00 │\n",
       "│ CLORIDRATO DE BUPROPIONA    ┆ SP       ┆ 12014 ┆ 3976  ┆ 2014-01-01 00:00:00 │\n",
       "│ ...                         ┆ ...      ┆ ...   ┆ ...   ┆ ...                 │\n",
       "│ METILTESTOSTERONA           ┆ SE       ┆ 72021 ┆ 1     ┆ 2021-07-01 00:00:00 │\n",
       "│ DECANOATO DE TESTOSTERONA   ┆ SP       ┆ 72021 ┆ 1     ┆ 2021-07-01 00:00:00 │\n",
       "│ DECANOATO DE TESTOSTERONA   ┆ BA       ┆ 72021 ┆ 1     ┆ 2021-07-01 00:00:00 │\n",
       "│ CIPIONATO DE TESTOSTERONA   ┆ ES       ┆ 72021 ┆ 1     ┆ 2021-07-01 00:00:00 │\n",
       "└─────────────────────────────┴──────────┴───────┴───────┴─────────────────────┘"
      ]
     },
     "execution_count": 7,
     "metadata": {},
     "output_type": "execute_result"
    }
   ],
   "source": [
    "df = correct_data(lf, 'DATA')\n",
    "df"
   ]
  },
  {
   "attachments": {},
   "cell_type": "markdown",
   "metadata": {},
   "source": [
    "## Avaliando as substâncias mais vendidas"
   ]
  },
  {
   "cell_type": "code",
   "execution_count": 149,
   "metadata": {},
   "outputs": [],
   "source": [
    "def TopSubstances(df, every_period='1mo'): \n",
    "    df_substances = (\n",
    "        df\n",
    "        .groupby(\n",
    "            ['PRINCIPIO_ATIVO','DATETIME']).agg(pl.col('count').sum()\n",
    "        )\n",
    "        .sort(\n",
    "            'DATETIME'\n",
    "            )\n",
    "        .groupby_dynamic(\n",
    "            index_column='DATETIME',by='PRINCIPIO_ATIVO', every=every_period, period=every_period\n",
    "            )\n",
    "            .agg(\n",
    "                [pl.col('count').sum()]\n",
    "                )\n",
    "        .filter(\n",
    "            pl.struct('PRINCIPIO_ATIVO').is_in([\n",
    "                                                # {'PRINCIPIO_ATIVO':'GABAPENTINA'}, \n",
    "                                                {'PRINCIPIO_ATIVO':'TESTOSTERONA'},\n",
    "                                                # {'PRINCIPIO_ATIVO':'CLORIDRATO DE AMITRIPTILINA'},\n",
    "                                                # {'PRINCIPIO_ATIVO':'CLORIDRATO DE BUPROPIONA'},\n",
    "                                                # {'PRINCIPIO_ATIVO':'TOPIRAMATO'},\n",
    "                                                # {'PRINCIPIO_ATIVO':'ESTOLATO DE ERITROMICINA'},\n",
    "                                                # {'PRINCIPIO_ATIVO':'CLORIDRATO DE SERTRALINA'},\n",
    "                                                # {'PRINCIPIO_ATIVO':'CLORIDRATO DE PAROXETINA'},\n",
    "                                                # {'PRINCIPIO_ATIVO':'CLORIDRATO DE TRAMADOL'},\n",
    "                                                # {'PRINCIPIO_ATIVO':'CLORIDRATO DE FLUOXETINA'}\n",
    "                                                ])\n",
    "        )\n",
    "    )\n",
    "    return df_substances\n"
   ]
  },
  {
   "cell_type": "code",
   "execution_count": 150,
   "metadata": {},
   "outputs": [
    {
     "data": {
      "application/vnd.plotly.v1+json": {
       "config": {
        "plotlyServerURL": "https://plot.ly"
       },
       "data": [
        {
         "hovertemplate": "PRINCIPIO_ATIVO=TESTOSTERONA<br>DATETIME=%{x}<br>count=%{y}<extra></extra>",
         "legendgroup": "TESTOSTERONA",
         "line": {
          "color": "#636efa",
          "dash": "solid"
         },
         "marker": {
          "symbol": "circle"
         },
         "mode": "lines",
         "name": "TESTOSTERONA",
         "orientation": "v",
         "showlegend": true,
         "type": "scatter",
         "x": [
          "2014-01-01T00:00:00",
          "2014-02-01T00:00:00",
          "2014-03-01T00:00:00",
          "2014-04-01T00:00:00",
          "2014-05-01T00:00:00",
          "2014-06-01T00:00:00",
          "2014-07-01T00:00:00",
          "2014-08-01T00:00:00",
          "2014-09-01T00:00:00",
          "2014-10-01T00:00:00",
          "2014-11-01T00:00:00",
          "2014-12-01T00:00:00",
          "2015-01-01T00:00:00",
          "2015-02-01T00:00:00",
          "2015-03-01T00:00:00",
          "2015-04-01T00:00:00",
          "2015-05-01T00:00:00",
          "2015-06-01T00:00:00",
          "2015-07-01T00:00:00",
          "2015-08-01T00:00:00",
          "2015-09-01T00:00:00",
          "2015-10-01T00:00:00",
          "2015-11-01T00:00:00",
          "2015-12-01T00:00:00",
          "2016-01-01T00:00:00",
          "2016-02-01T00:00:00",
          "2016-03-01T00:00:00",
          "2016-04-01T00:00:00",
          "2016-05-01T00:00:00",
          "2016-06-01T00:00:00",
          "2016-07-01T00:00:00",
          "2016-08-01T00:00:00",
          "2016-09-01T00:00:00",
          "2016-10-01T00:00:00",
          "2016-11-01T00:00:00",
          "2016-12-01T00:00:00",
          "2017-01-01T00:00:00",
          "2017-02-01T00:00:00",
          "2017-03-01T00:00:00",
          "2017-04-01T00:00:00",
          "2017-05-01T00:00:00",
          "2017-06-01T00:00:00",
          "2017-07-01T00:00:00",
          "2017-08-01T00:00:00",
          "2017-09-01T00:00:00",
          "2017-10-01T00:00:00",
          "2017-11-01T00:00:00",
          "2017-12-01T00:00:00",
          "2018-01-01T00:00:00",
          "2018-02-01T00:00:00",
          "2018-03-01T00:00:00",
          "2018-04-01T00:00:00",
          "2018-05-01T00:00:00",
          "2018-06-01T00:00:00",
          "2018-07-01T00:00:00",
          "2018-08-01T00:00:00",
          "2018-09-01T00:00:00",
          "2018-10-01T00:00:00",
          "2018-11-01T00:00:00",
          "2018-12-01T00:00:00",
          "2019-01-01T00:00:00",
          "2019-02-01T00:00:00",
          "2019-03-01T00:00:00",
          "2019-04-01T00:00:00",
          "2019-05-01T00:00:00",
          "2019-06-01T00:00:00",
          "2019-07-01T00:00:00",
          "2019-08-01T00:00:00",
          "2019-09-01T00:00:00",
          "2019-10-01T00:00:00",
          "2019-11-01T00:00:00",
          "2019-12-01T00:00:00",
          "2020-01-01T00:00:00",
          "2020-02-01T00:00:00",
          "2020-03-01T00:00:00",
          "2020-04-01T00:00:00",
          "2020-05-01T00:00:00",
          "2020-06-01T00:00:00",
          "2020-07-01T00:00:00",
          "2020-08-01T00:00:00",
          "2020-09-01T00:00:00",
          "2020-10-01T00:00:00",
          "2020-11-01T00:00:00",
          "2020-12-01T00:00:00",
          "2021-01-01T00:00:00",
          "2021-02-01T00:00:00",
          "2021-03-01T00:00:00",
          "2021-04-01T00:00:00",
          "2021-05-01T00:00:00",
          "2021-06-01T00:00:00",
          "2021-07-01T00:00:00"
         ],
         "xaxis": "x",
         "y": [
          4293,
          4631,
          4614,
          4882,
          5096,
          4771,
          5323,
          5336,
          5319,
          5613,
          5534,
          5599,
          5329,
          5363,
          6254,
          5972,
          6240,
          6328,
          6628,
          6666,
          6932,
          7133,
          7161,
          7281,
          6476,
          6940,
          7598,
          7246,
          7824,
          8337,
          8042,
          8500,
          8397,
          8417,
          8610,
          8787,
          8079,
          8268,
          9626,
          8757,
          9919,
          9744,
          9830,
          10639,
          10242,
          10892,
          10928,
          10977,
          10855,
          10283,
          11459,
          11837,
          11916,
          12315,
          12602,
          13969,
          12688,
          14048,
          13719,
          13409,
          13095,
          13368,
          13076,
          13760,
          13901,
          13274,
          14016,
          14307,
          14352,
          14937,
          14262,
          14265,
          13931,
          13633,
          13764,
          11598,
          12624,
          13808,
          14879,
          15128,
          15781,
          16842,
          16698,
          17311,
          15751,
          16366,
          18214,
          17486,
          18090,
          18532,
          18917
         ],
         "yaxis": "y"
        }
       ],
       "layout": {
        "legend": {
         "title": {
          "text": "PRINCIPIO_ATIVO"
         },
         "tracegroupgap": 0
        },
        "margin": {
         "t": 60
        },
        "template": {
         "data": {
          "bar": [
           {
            "error_x": {
             "color": "#2a3f5f"
            },
            "error_y": {
             "color": "#2a3f5f"
            },
            "marker": {
             "line": {
              "color": "#E5ECF6",
              "width": 0.5
             },
             "pattern": {
              "fillmode": "overlay",
              "size": 10,
              "solidity": 0.2
             }
            },
            "type": "bar"
           }
          ],
          "barpolar": [
           {
            "marker": {
             "line": {
              "color": "#E5ECF6",
              "width": 0.5
             },
             "pattern": {
              "fillmode": "overlay",
              "size": 10,
              "solidity": 0.2
             }
            },
            "type": "barpolar"
           }
          ],
          "carpet": [
           {
            "aaxis": {
             "endlinecolor": "#2a3f5f",
             "gridcolor": "white",
             "linecolor": "white",
             "minorgridcolor": "white",
             "startlinecolor": "#2a3f5f"
            },
            "baxis": {
             "endlinecolor": "#2a3f5f",
             "gridcolor": "white",
             "linecolor": "white",
             "minorgridcolor": "white",
             "startlinecolor": "#2a3f5f"
            },
            "type": "carpet"
           }
          ],
          "choropleth": [
           {
            "colorbar": {
             "outlinewidth": 0,
             "ticks": ""
            },
            "type": "choropleth"
           }
          ],
          "contour": [
           {
            "colorbar": {
             "outlinewidth": 0,
             "ticks": ""
            },
            "colorscale": [
             [
              0,
              "#0d0887"
             ],
             [
              0.1111111111111111,
              "#46039f"
             ],
             [
              0.2222222222222222,
              "#7201a8"
             ],
             [
              0.3333333333333333,
              "#9c179e"
             ],
             [
              0.4444444444444444,
              "#bd3786"
             ],
             [
              0.5555555555555556,
              "#d8576b"
             ],
             [
              0.6666666666666666,
              "#ed7953"
             ],
             [
              0.7777777777777778,
              "#fb9f3a"
             ],
             [
              0.8888888888888888,
              "#fdca26"
             ],
             [
              1,
              "#f0f921"
             ]
            ],
            "type": "contour"
           }
          ],
          "contourcarpet": [
           {
            "colorbar": {
             "outlinewidth": 0,
             "ticks": ""
            },
            "type": "contourcarpet"
           }
          ],
          "heatmap": [
           {
            "colorbar": {
             "outlinewidth": 0,
             "ticks": ""
            },
            "colorscale": [
             [
              0,
              "#0d0887"
             ],
             [
              0.1111111111111111,
              "#46039f"
             ],
             [
              0.2222222222222222,
              "#7201a8"
             ],
             [
              0.3333333333333333,
              "#9c179e"
             ],
             [
              0.4444444444444444,
              "#bd3786"
             ],
             [
              0.5555555555555556,
              "#d8576b"
             ],
             [
              0.6666666666666666,
              "#ed7953"
             ],
             [
              0.7777777777777778,
              "#fb9f3a"
             ],
             [
              0.8888888888888888,
              "#fdca26"
             ],
             [
              1,
              "#f0f921"
             ]
            ],
            "type": "heatmap"
           }
          ],
          "heatmapgl": [
           {
            "colorbar": {
             "outlinewidth": 0,
             "ticks": ""
            },
            "colorscale": [
             [
              0,
              "#0d0887"
             ],
             [
              0.1111111111111111,
              "#46039f"
             ],
             [
              0.2222222222222222,
              "#7201a8"
             ],
             [
              0.3333333333333333,
              "#9c179e"
             ],
             [
              0.4444444444444444,
              "#bd3786"
             ],
             [
              0.5555555555555556,
              "#d8576b"
             ],
             [
              0.6666666666666666,
              "#ed7953"
             ],
             [
              0.7777777777777778,
              "#fb9f3a"
             ],
             [
              0.8888888888888888,
              "#fdca26"
             ],
             [
              1,
              "#f0f921"
             ]
            ],
            "type": "heatmapgl"
           }
          ],
          "histogram": [
           {
            "marker": {
             "pattern": {
              "fillmode": "overlay",
              "size": 10,
              "solidity": 0.2
             }
            },
            "type": "histogram"
           }
          ],
          "histogram2d": [
           {
            "colorbar": {
             "outlinewidth": 0,
             "ticks": ""
            },
            "colorscale": [
             [
              0,
              "#0d0887"
             ],
             [
              0.1111111111111111,
              "#46039f"
             ],
             [
              0.2222222222222222,
              "#7201a8"
             ],
             [
              0.3333333333333333,
              "#9c179e"
             ],
             [
              0.4444444444444444,
              "#bd3786"
             ],
             [
              0.5555555555555556,
              "#d8576b"
             ],
             [
              0.6666666666666666,
              "#ed7953"
             ],
             [
              0.7777777777777778,
              "#fb9f3a"
             ],
             [
              0.8888888888888888,
              "#fdca26"
             ],
             [
              1,
              "#f0f921"
             ]
            ],
            "type": "histogram2d"
           }
          ],
          "histogram2dcontour": [
           {
            "colorbar": {
             "outlinewidth": 0,
             "ticks": ""
            },
            "colorscale": [
             [
              0,
              "#0d0887"
             ],
             [
              0.1111111111111111,
              "#46039f"
             ],
             [
              0.2222222222222222,
              "#7201a8"
             ],
             [
              0.3333333333333333,
              "#9c179e"
             ],
             [
              0.4444444444444444,
              "#bd3786"
             ],
             [
              0.5555555555555556,
              "#d8576b"
             ],
             [
              0.6666666666666666,
              "#ed7953"
             ],
             [
              0.7777777777777778,
              "#fb9f3a"
             ],
             [
              0.8888888888888888,
              "#fdca26"
             ],
             [
              1,
              "#f0f921"
             ]
            ],
            "type": "histogram2dcontour"
           }
          ],
          "mesh3d": [
           {
            "colorbar": {
             "outlinewidth": 0,
             "ticks": ""
            },
            "type": "mesh3d"
           }
          ],
          "parcoords": [
           {
            "line": {
             "colorbar": {
              "outlinewidth": 0,
              "ticks": ""
             }
            },
            "type": "parcoords"
           }
          ],
          "pie": [
           {
            "automargin": true,
            "type": "pie"
           }
          ],
          "scatter": [
           {
            "fillpattern": {
             "fillmode": "overlay",
             "size": 10,
             "solidity": 0.2
            },
            "type": "scatter"
           }
          ],
          "scatter3d": [
           {
            "line": {
             "colorbar": {
              "outlinewidth": 0,
              "ticks": ""
             }
            },
            "marker": {
             "colorbar": {
              "outlinewidth": 0,
              "ticks": ""
             }
            },
            "type": "scatter3d"
           }
          ],
          "scattercarpet": [
           {
            "marker": {
             "colorbar": {
              "outlinewidth": 0,
              "ticks": ""
             }
            },
            "type": "scattercarpet"
           }
          ],
          "scattergeo": [
           {
            "marker": {
             "colorbar": {
              "outlinewidth": 0,
              "ticks": ""
             }
            },
            "type": "scattergeo"
           }
          ],
          "scattergl": [
           {
            "marker": {
             "colorbar": {
              "outlinewidth": 0,
              "ticks": ""
             }
            },
            "type": "scattergl"
           }
          ],
          "scattermapbox": [
           {
            "marker": {
             "colorbar": {
              "outlinewidth": 0,
              "ticks": ""
             }
            },
            "type": "scattermapbox"
           }
          ],
          "scatterpolar": [
           {
            "marker": {
             "colorbar": {
              "outlinewidth": 0,
              "ticks": ""
             }
            },
            "type": "scatterpolar"
           }
          ],
          "scatterpolargl": [
           {
            "marker": {
             "colorbar": {
              "outlinewidth": 0,
              "ticks": ""
             }
            },
            "type": "scatterpolargl"
           }
          ],
          "scatterternary": [
           {
            "marker": {
             "colorbar": {
              "outlinewidth": 0,
              "ticks": ""
             }
            },
            "type": "scatterternary"
           }
          ],
          "surface": [
           {
            "colorbar": {
             "outlinewidth": 0,
             "ticks": ""
            },
            "colorscale": [
             [
              0,
              "#0d0887"
             ],
             [
              0.1111111111111111,
              "#46039f"
             ],
             [
              0.2222222222222222,
              "#7201a8"
             ],
             [
              0.3333333333333333,
              "#9c179e"
             ],
             [
              0.4444444444444444,
              "#bd3786"
             ],
             [
              0.5555555555555556,
              "#d8576b"
             ],
             [
              0.6666666666666666,
              "#ed7953"
             ],
             [
              0.7777777777777778,
              "#fb9f3a"
             ],
             [
              0.8888888888888888,
              "#fdca26"
             ],
             [
              1,
              "#f0f921"
             ]
            ],
            "type": "surface"
           }
          ],
          "table": [
           {
            "cells": {
             "fill": {
              "color": "#EBF0F8"
             },
             "line": {
              "color": "white"
             }
            },
            "header": {
             "fill": {
              "color": "#C8D4E3"
             },
             "line": {
              "color": "white"
             }
            },
            "type": "table"
           }
          ]
         },
         "layout": {
          "annotationdefaults": {
           "arrowcolor": "#2a3f5f",
           "arrowhead": 0,
           "arrowwidth": 1
          },
          "autotypenumbers": "strict",
          "coloraxis": {
           "colorbar": {
            "outlinewidth": 0,
            "ticks": ""
           }
          },
          "colorscale": {
           "diverging": [
            [
             0,
             "#8e0152"
            ],
            [
             0.1,
             "#c51b7d"
            ],
            [
             0.2,
             "#de77ae"
            ],
            [
             0.3,
             "#f1b6da"
            ],
            [
             0.4,
             "#fde0ef"
            ],
            [
             0.5,
             "#f7f7f7"
            ],
            [
             0.6,
             "#e6f5d0"
            ],
            [
             0.7,
             "#b8e186"
            ],
            [
             0.8,
             "#7fbc41"
            ],
            [
             0.9,
             "#4d9221"
            ],
            [
             1,
             "#276419"
            ]
           ],
           "sequential": [
            [
             0,
             "#0d0887"
            ],
            [
             0.1111111111111111,
             "#46039f"
            ],
            [
             0.2222222222222222,
             "#7201a8"
            ],
            [
             0.3333333333333333,
             "#9c179e"
            ],
            [
             0.4444444444444444,
             "#bd3786"
            ],
            [
             0.5555555555555556,
             "#d8576b"
            ],
            [
             0.6666666666666666,
             "#ed7953"
            ],
            [
             0.7777777777777778,
             "#fb9f3a"
            ],
            [
             0.8888888888888888,
             "#fdca26"
            ],
            [
             1,
             "#f0f921"
            ]
           ],
           "sequentialminus": [
            [
             0,
             "#0d0887"
            ],
            [
             0.1111111111111111,
             "#46039f"
            ],
            [
             0.2222222222222222,
             "#7201a8"
            ],
            [
             0.3333333333333333,
             "#9c179e"
            ],
            [
             0.4444444444444444,
             "#bd3786"
            ],
            [
             0.5555555555555556,
             "#d8576b"
            ],
            [
             0.6666666666666666,
             "#ed7953"
            ],
            [
             0.7777777777777778,
             "#fb9f3a"
            ],
            [
             0.8888888888888888,
             "#fdca26"
            ],
            [
             1,
             "#f0f921"
            ]
           ]
          },
          "colorway": [
           "#636efa",
           "#EF553B",
           "#00cc96",
           "#ab63fa",
           "#FFA15A",
           "#19d3f3",
           "#FF6692",
           "#B6E880",
           "#FF97FF",
           "#FECB52"
          ],
          "font": {
           "color": "#2a3f5f"
          },
          "geo": {
           "bgcolor": "white",
           "lakecolor": "white",
           "landcolor": "#E5ECF6",
           "showlakes": true,
           "showland": true,
           "subunitcolor": "white"
          },
          "hoverlabel": {
           "align": "left"
          },
          "hovermode": "closest",
          "mapbox": {
           "style": "light"
          },
          "paper_bgcolor": "white",
          "plot_bgcolor": "#E5ECF6",
          "polar": {
           "angularaxis": {
            "gridcolor": "white",
            "linecolor": "white",
            "ticks": ""
           },
           "bgcolor": "#E5ECF6",
           "radialaxis": {
            "gridcolor": "white",
            "linecolor": "white",
            "ticks": ""
           }
          },
          "scene": {
           "xaxis": {
            "backgroundcolor": "#E5ECF6",
            "gridcolor": "white",
            "gridwidth": 2,
            "linecolor": "white",
            "showbackground": true,
            "ticks": "",
            "zerolinecolor": "white"
           },
           "yaxis": {
            "backgroundcolor": "#E5ECF6",
            "gridcolor": "white",
            "gridwidth": 2,
            "linecolor": "white",
            "showbackground": true,
            "ticks": "",
            "zerolinecolor": "white"
           },
           "zaxis": {
            "backgroundcolor": "#E5ECF6",
            "gridcolor": "white",
            "gridwidth": 2,
            "linecolor": "white",
            "showbackground": true,
            "ticks": "",
            "zerolinecolor": "white"
           }
          },
          "shapedefaults": {
           "line": {
            "color": "#2a3f5f"
           }
          },
          "ternary": {
           "aaxis": {
            "gridcolor": "white",
            "linecolor": "white",
            "ticks": ""
           },
           "baxis": {
            "gridcolor": "white",
            "linecolor": "white",
            "ticks": ""
           },
           "bgcolor": "#E5ECF6",
           "caxis": {
            "gridcolor": "white",
            "linecolor": "white",
            "ticks": ""
           }
          },
          "title": {
           "x": 0.05
          },
          "xaxis": {
           "automargin": true,
           "gridcolor": "white",
           "linecolor": "white",
           "ticks": "",
           "title": {
            "standoff": 15
           },
           "zerolinecolor": "white",
           "zerolinewidth": 2
          },
          "yaxis": {
           "automargin": true,
           "gridcolor": "white",
           "linecolor": "white",
           "ticks": "",
           "title": {
            "standoff": 15
           },
           "zerolinecolor": "white",
           "zerolinewidth": 2
          }
         }
        },
        "xaxis": {
         "anchor": "y",
         "domain": [
          0,
          1
         ],
         "title": {
          "text": "Data"
         }
        },
        "yaxis": {
         "anchor": "x",
         "domain": [
          0,
          1
         ],
         "title": {
          "text": "Volume de vendas"
         }
        }
       }
      }
     },
     "metadata": {},
     "output_type": "display_data"
    }
   ],
   "source": [
    "df_substances = TopSubstances(df,'1mo')\n",
    "df_substances = df_substances.to_pandas()\n",
    "px.line(df_substances, x='DATETIME', y='count', color='PRINCIPIO_ATIVO').update_layout(\n",
    "                                                                            xaxis_title=\"Data\", yaxis_title=\"Volume de vendas\"\n",
    "                                                                         )"
   ]
  },
  {
   "cell_type": "code",
   "execution_count": 112,
   "metadata": {},
   "outputs": [
    {
     "data": {
      "text/html": [
       "<div>\n",
       "<style scoped>\n",
       "    .dataframe tbody tr th:only-of-type {\n",
       "        vertical-align: middle;\n",
       "    }\n",
       "\n",
       "    .dataframe tbody tr th {\n",
       "        vertical-align: top;\n",
       "    }\n",
       "\n",
       "    .dataframe thead th {\n",
       "        text-align: right;\n",
       "    }\n",
       "\n",
       "    .dataframe td {\n",
       "        white-space: pre;\n",
       "    }\n",
       "\n",
       "    .dataframe td {\n",
       "        padding-top: 0;\n",
       "    }\n",
       "\n",
       "    .dataframe td {\n",
       "        padding-bottom: 0;\n",
       "    }\n",
       "</style>\n",
       "<table border=\"1\" class=\"dataframe\">\n",
       "<small>shape: (10, 4)</small>\n",
       "<thead>\n",
       "<tr>\n",
       "<th>\n",
       "PRINCIPIO_ATIVO\n",
       "</th>\n",
       "<th>\n",
       "initial_date\n",
       "</th>\n",
       "<th>\n",
       "final_date\n",
       "</th>\n",
       "<th>\n",
       "variation\n",
       "</th>\n",
       "</tr>\n",
       "<tr>\n",
       "<td>\n",
       "str\n",
       "</td>\n",
       "<td>\n",
       "i64\n",
       "</td>\n",
       "<td>\n",
       "i64\n",
       "</td>\n",
       "<td>\n",
       "f64\n",
       "</td>\n",
       "</tr>\n",
       "</thead>\n",
       "<tbody>\n",
       "<tr>\n",
       "<td>\n",
       "&quot;TESTOSTERONA&quot;\n",
       "</td>\n",
       "<td>\n",
       "4293\n",
       "</td>\n",
       "<td>\n",
       "18917\n",
       "</td>\n",
       "<td>\n",
       "4.406476\n",
       "</td>\n",
       "</tr>\n",
       "<tr>\n",
       "<td>\n",
       "&quot;GABAPENTINA&quot;\n",
       "</td>\n",
       "<td>\n",
       "4551\n",
       "</td>\n",
       "<td>\n",
       "17227\n",
       "</td>\n",
       "<td>\n",
       "3.785322\n",
       "</td>\n",
       "</tr>\n",
       "<tr>\n",
       "<td>\n",
       "&quot;CLORIDRATO DE ...\n",
       "</td>\n",
       "<td>\n",
       "5760\n",
       "</td>\n",
       "<td>\n",
       "10681\n",
       "</td>\n",
       "<td>\n",
       "1.85434\n",
       "</td>\n",
       "</tr>\n",
       "<tr>\n",
       "<td>\n",
       "&quot;TOPIRAMATO&quot;\n",
       "</td>\n",
       "<td>\n",
       "8150\n",
       "</td>\n",
       "<td>\n",
       "12159\n",
       "</td>\n",
       "<td>\n",
       "1.491902\n",
       "</td>\n",
       "</tr>\n",
       "<tr>\n",
       "<td>\n",
       "&quot;CLORIDRATO DE ...\n",
       "</td>\n",
       "<td>\n",
       "8794\n",
       "</td>\n",
       "<td>\n",
       "12957\n",
       "</td>\n",
       "<td>\n",
       "1.473391\n",
       "</td>\n",
       "</tr>\n",
       "<tr>\n",
       "<td>\n",
       "&quot;CLORIDRATO DE ...\n",
       "</td>\n",
       "<td>\n",
       "8933\n",
       "</td>\n",
       "<td>\n",
       "10950\n",
       "</td>\n",
       "<td>\n",
       "1.225792\n",
       "</td>\n",
       "</tr>\n",
       "<tr>\n",
       "<td>\n",
       "&quot;CLORIDRATO DE ...\n",
       "</td>\n",
       "<td>\n",
       "11754\n",
       "</td>\n",
       "<td>\n",
       "13320\n",
       "</td>\n",
       "<td>\n",
       "1.133231\n",
       "</td>\n",
       "</tr>\n",
       "<tr>\n",
       "<td>\n",
       "&quot;CLORIDRATO DE ...\n",
       "</td>\n",
       "<td>\n",
       "11725\n",
       "</td>\n",
       "<td>\n",
       "13212\n",
       "</td>\n",
       "<td>\n",
       "1.126823\n",
       "</td>\n",
       "</tr>\n",
       "<tr>\n",
       "<td>\n",
       "&quot;CLORIDRATO DE ...\n",
       "</td>\n",
       "<td>\n",
       "8577\n",
       "</td>\n",
       "<td>\n",
       "9181\n",
       "</td>\n",
       "<td>\n",
       "1.070421\n",
       "</td>\n",
       "</tr>\n",
       "<tr>\n",
       "<td>\n",
       "&quot;ESTOLATO DE ER...\n",
       "</td>\n",
       "<td>\n",
       "10273\n",
       "</td>\n",
       "<td>\n",
       "10975\n",
       "</td>\n",
       "<td>\n",
       "1.068334\n",
       "</td>\n",
       "</tr>\n",
       "</tbody>\n",
       "</table>\n",
       "</div>"
      ],
      "text/plain": [
       "shape: (10, 4)\n",
       "┌─────────────────────────────┬──────────────┬────────────┬───────────┐\n",
       "│ PRINCIPIO_ATIVO             ┆ initial_date ┆ final_date ┆ variation │\n",
       "│ ---                         ┆ ---          ┆ ---        ┆ ---       │\n",
       "│ str                         ┆ i64          ┆ i64        ┆ f64       │\n",
       "╞═════════════════════════════╪══════════════╪════════════╪═══════════╡\n",
       "│ TESTOSTERONA                ┆ 4293         ┆ 18917      ┆ 4.406476  │\n",
       "│ GABAPENTINA                 ┆ 4551         ┆ 17227      ┆ 3.785322  │\n",
       "│ CLORIDRATO DE TRAMADOL      ┆ 5760         ┆ 10681      ┆ 1.85434   │\n",
       "│ TOPIRAMATO                  ┆ 8150         ┆ 12159      ┆ 1.491902  │\n",
       "│ ...                         ┆ ...          ┆ ...        ┆ ...       │\n",
       "│ CLORIDRATO DE AMITRIPTILINA ┆ 11754        ┆ 13320      ┆ 1.133231  │\n",
       "│ CLORIDRATO DE FLUOXETINA    ┆ 11725        ┆ 13212      ┆ 1.126823  │\n",
       "│ CLORIDRATO DE PAROXETINA    ┆ 8577         ┆ 9181       ┆ 1.070421  │\n",
       "│ ESTOLATO DE ERITROMICINA    ┆ 10273        ┆ 10975      ┆ 1.068334  │\n",
       "└─────────────────────────────┴──────────────┴────────────┴───────────┘"
      ]
     },
     "execution_count": 112,
     "metadata": {},
     "output_type": "execute_result"
    }
   ],
   "source": [
    "df_variation = TopSubstances(df,'1mo')\n",
    "df_variation = (\n",
    "    df_variation\n",
    "    .filter(\n",
    "            (\n",
    "            pl.col('DATETIME')<=datetime(2014,1,1)\n",
    "            )|\n",
    "            (\n",
    "            pl.col('DATETIME')==datetime(2021,7,1)\n",
    "            )\n",
    "    )\n",
    "    .groupby('PRINCIPIO_ATIVO').agg(\n",
    "                                    [\n",
    "                                    pl.col('count').min().alias('initial_date'),\n",
    "                                    pl.col('count').max().alias('final_date')\n",
    "                                    ]\n",
    "                                )\n",
    "    .with_columns(\n",
    "        (pl.col('final_date')/pl.col('initial_date'))\n",
    "        .alias('variation')\n",
    "    )\n",
    "    .sort(by='variation', reverse=True)\n",
    "\n",
    ")\n",
    "df_variation\n"
   ]
  },
  {
   "cell_type": "code",
   "execution_count": 113,
   "metadata": {},
   "outputs": [],
   "source": [
    "df_substances = TopSubstances(df,'1mo')\n",
    "\n",
    "df_subs_totals = df_substances.groupby('PRINCIPIO_ATIVO').agg([pl.col('count').sum()]).sort(by='count', reverse=True)\n",
    "df_subs_totals = df_subs_totals.to_pandas()\n",
    "\n",
    "df_variation = df_variation.to_pandas()\n"
   ]
  },
  {
   "cell_type": "code",
   "execution_count": 148,
   "metadata": {},
   "outputs": [
    {
     "data": {
      "application/vnd.plotly.v1+json": {
       "config": {
        "plotlyServerURL": "https://plot.ly"
       },
       "data": [
        {
         "name": "Crescimento (2014→2021)",
         "type": "bar",
         "x": [
          "TESTOSTERONA",
          "GABAPENTINA",
          "CLORIDRATO DE TRAMADOL",
          "TOPIRAMATO",
          "CLORIDRATO DE BUPROPIONA",
          "CLORIDRATO DE SERTRALINA",
          "CLORIDRATO DE AMITRIPTILINA",
          "CLORIDRATO DE FLUOXETINA",
          "CLORIDRATO DE PAROXETINA",
          "ESTOLATO DE ERITROMICINA"
         ],
         "y": [
          4.406475658047985,
          3.785321907273127,
          1.8543402777777778,
          1.4919018404907975,
          1.4733909483738914,
          1.2257920071644464,
          1.1332312404287903,
          1.12682302771855,
          1.0704208930861607,
          1.0683344689963983
         ],
         "yaxis": "y"
        },
        {
         "name": "Vendas totais no períoro (2014-2021)",
         "opacity": 0.2,
         "type": "bar",
         "width": 0.4,
         "x": [
          "CLORIDRATO DE FLUOXETINA",
          "CLORIDRATO DE AMITRIPTILINA",
          "ESTOLATO DE ERITROMICINA",
          "TESTOSTERONA",
          "CLORIDRATO DE BUPROPIONA",
          "TOPIRAMATO",
          "CLORIDRATO DE SERTRALINA",
          "CLORIDRATO DE PAROXETINA",
          "GABAPENTINA",
          "CLORIDRATO DE TRAMADOL"
         ],
         "y": [
          1159862,
          1110851,
          1046989,
          966439,
          965855,
          937404,
          910650,
          813747,
          759496,
          749321
         ],
         "yaxis": "y2"
        }
       ],
       "layout": {
        "height": 1000,
        "legend": {
         "font": {
          "color": "black",
          "family": "sans-serif",
          "size": 25
         },
         "traceorder": "normal",
         "x": 0.57,
         "y": 1
        },
        "template": {
         "data": {
          "bar": [
           {
            "error_x": {
             "color": "#2a3f5f"
            },
            "error_y": {
             "color": "#2a3f5f"
            },
            "marker": {
             "line": {
              "color": "#E5ECF6",
              "width": 0.5
             },
             "pattern": {
              "fillmode": "overlay",
              "size": 10,
              "solidity": 0.2
             }
            },
            "type": "bar"
           }
          ],
          "barpolar": [
           {
            "marker": {
             "line": {
              "color": "#E5ECF6",
              "width": 0.5
             },
             "pattern": {
              "fillmode": "overlay",
              "size": 10,
              "solidity": 0.2
             }
            },
            "type": "barpolar"
           }
          ],
          "carpet": [
           {
            "aaxis": {
             "endlinecolor": "#2a3f5f",
             "gridcolor": "white",
             "linecolor": "white",
             "minorgridcolor": "white",
             "startlinecolor": "#2a3f5f"
            },
            "baxis": {
             "endlinecolor": "#2a3f5f",
             "gridcolor": "white",
             "linecolor": "white",
             "minorgridcolor": "white",
             "startlinecolor": "#2a3f5f"
            },
            "type": "carpet"
           }
          ],
          "choropleth": [
           {
            "colorbar": {
             "outlinewidth": 0,
             "ticks": ""
            },
            "type": "choropleth"
           }
          ],
          "contour": [
           {
            "colorbar": {
             "outlinewidth": 0,
             "ticks": ""
            },
            "colorscale": [
             [
              0,
              "#0d0887"
             ],
             [
              0.1111111111111111,
              "#46039f"
             ],
             [
              0.2222222222222222,
              "#7201a8"
             ],
             [
              0.3333333333333333,
              "#9c179e"
             ],
             [
              0.4444444444444444,
              "#bd3786"
             ],
             [
              0.5555555555555556,
              "#d8576b"
             ],
             [
              0.6666666666666666,
              "#ed7953"
             ],
             [
              0.7777777777777778,
              "#fb9f3a"
             ],
             [
              0.8888888888888888,
              "#fdca26"
             ],
             [
              1,
              "#f0f921"
             ]
            ],
            "type": "contour"
           }
          ],
          "contourcarpet": [
           {
            "colorbar": {
             "outlinewidth": 0,
             "ticks": ""
            },
            "type": "contourcarpet"
           }
          ],
          "heatmap": [
           {
            "colorbar": {
             "outlinewidth": 0,
             "ticks": ""
            },
            "colorscale": [
             [
              0,
              "#0d0887"
             ],
             [
              0.1111111111111111,
              "#46039f"
             ],
             [
              0.2222222222222222,
              "#7201a8"
             ],
             [
              0.3333333333333333,
              "#9c179e"
             ],
             [
              0.4444444444444444,
              "#bd3786"
             ],
             [
              0.5555555555555556,
              "#d8576b"
             ],
             [
              0.6666666666666666,
              "#ed7953"
             ],
             [
              0.7777777777777778,
              "#fb9f3a"
             ],
             [
              0.8888888888888888,
              "#fdca26"
             ],
             [
              1,
              "#f0f921"
             ]
            ],
            "type": "heatmap"
           }
          ],
          "heatmapgl": [
           {
            "colorbar": {
             "outlinewidth": 0,
             "ticks": ""
            },
            "colorscale": [
             [
              0,
              "#0d0887"
             ],
             [
              0.1111111111111111,
              "#46039f"
             ],
             [
              0.2222222222222222,
              "#7201a8"
             ],
             [
              0.3333333333333333,
              "#9c179e"
             ],
             [
              0.4444444444444444,
              "#bd3786"
             ],
             [
              0.5555555555555556,
              "#d8576b"
             ],
             [
              0.6666666666666666,
              "#ed7953"
             ],
             [
              0.7777777777777778,
              "#fb9f3a"
             ],
             [
              0.8888888888888888,
              "#fdca26"
             ],
             [
              1,
              "#f0f921"
             ]
            ],
            "type": "heatmapgl"
           }
          ],
          "histogram": [
           {
            "marker": {
             "pattern": {
              "fillmode": "overlay",
              "size": 10,
              "solidity": 0.2
             }
            },
            "type": "histogram"
           }
          ],
          "histogram2d": [
           {
            "colorbar": {
             "outlinewidth": 0,
             "ticks": ""
            },
            "colorscale": [
             [
              0,
              "#0d0887"
             ],
             [
              0.1111111111111111,
              "#46039f"
             ],
             [
              0.2222222222222222,
              "#7201a8"
             ],
             [
              0.3333333333333333,
              "#9c179e"
             ],
             [
              0.4444444444444444,
              "#bd3786"
             ],
             [
              0.5555555555555556,
              "#d8576b"
             ],
             [
              0.6666666666666666,
              "#ed7953"
             ],
             [
              0.7777777777777778,
              "#fb9f3a"
             ],
             [
              0.8888888888888888,
              "#fdca26"
             ],
             [
              1,
              "#f0f921"
             ]
            ],
            "type": "histogram2d"
           }
          ],
          "histogram2dcontour": [
           {
            "colorbar": {
             "outlinewidth": 0,
             "ticks": ""
            },
            "colorscale": [
             [
              0,
              "#0d0887"
             ],
             [
              0.1111111111111111,
              "#46039f"
             ],
             [
              0.2222222222222222,
              "#7201a8"
             ],
             [
              0.3333333333333333,
              "#9c179e"
             ],
             [
              0.4444444444444444,
              "#bd3786"
             ],
             [
              0.5555555555555556,
              "#d8576b"
             ],
             [
              0.6666666666666666,
              "#ed7953"
             ],
             [
              0.7777777777777778,
              "#fb9f3a"
             ],
             [
              0.8888888888888888,
              "#fdca26"
             ],
             [
              1,
              "#f0f921"
             ]
            ],
            "type": "histogram2dcontour"
           }
          ],
          "mesh3d": [
           {
            "colorbar": {
             "outlinewidth": 0,
             "ticks": ""
            },
            "type": "mesh3d"
           }
          ],
          "parcoords": [
           {
            "line": {
             "colorbar": {
              "outlinewidth": 0,
              "ticks": ""
             }
            },
            "type": "parcoords"
           }
          ],
          "pie": [
           {
            "automargin": true,
            "type": "pie"
           }
          ],
          "scatter": [
           {
            "fillpattern": {
             "fillmode": "overlay",
             "size": 10,
             "solidity": 0.2
            },
            "type": "scatter"
           }
          ],
          "scatter3d": [
           {
            "line": {
             "colorbar": {
              "outlinewidth": 0,
              "ticks": ""
             }
            },
            "marker": {
             "colorbar": {
              "outlinewidth": 0,
              "ticks": ""
             }
            },
            "type": "scatter3d"
           }
          ],
          "scattercarpet": [
           {
            "marker": {
             "colorbar": {
              "outlinewidth": 0,
              "ticks": ""
             }
            },
            "type": "scattercarpet"
           }
          ],
          "scattergeo": [
           {
            "marker": {
             "colorbar": {
              "outlinewidth": 0,
              "ticks": ""
             }
            },
            "type": "scattergeo"
           }
          ],
          "scattergl": [
           {
            "marker": {
             "colorbar": {
              "outlinewidth": 0,
              "ticks": ""
             }
            },
            "type": "scattergl"
           }
          ],
          "scattermapbox": [
           {
            "marker": {
             "colorbar": {
              "outlinewidth": 0,
              "ticks": ""
             }
            },
            "type": "scattermapbox"
           }
          ],
          "scatterpolar": [
           {
            "marker": {
             "colorbar": {
              "outlinewidth": 0,
              "ticks": ""
             }
            },
            "type": "scatterpolar"
           }
          ],
          "scatterpolargl": [
           {
            "marker": {
             "colorbar": {
              "outlinewidth": 0,
              "ticks": ""
             }
            },
            "type": "scatterpolargl"
           }
          ],
          "scatterternary": [
           {
            "marker": {
             "colorbar": {
              "outlinewidth": 0,
              "ticks": ""
             }
            },
            "type": "scatterternary"
           }
          ],
          "surface": [
           {
            "colorbar": {
             "outlinewidth": 0,
             "ticks": ""
            },
            "colorscale": [
             [
              0,
              "#0d0887"
             ],
             [
              0.1111111111111111,
              "#46039f"
             ],
             [
              0.2222222222222222,
              "#7201a8"
             ],
             [
              0.3333333333333333,
              "#9c179e"
             ],
             [
              0.4444444444444444,
              "#bd3786"
             ],
             [
              0.5555555555555556,
              "#d8576b"
             ],
             [
              0.6666666666666666,
              "#ed7953"
             ],
             [
              0.7777777777777778,
              "#fb9f3a"
             ],
             [
              0.8888888888888888,
              "#fdca26"
             ],
             [
              1,
              "#f0f921"
             ]
            ],
            "type": "surface"
           }
          ],
          "table": [
           {
            "cells": {
             "fill": {
              "color": "#EBF0F8"
             },
             "line": {
              "color": "white"
             }
            },
            "header": {
             "fill": {
              "color": "#C8D4E3"
             },
             "line": {
              "color": "white"
             }
            },
            "type": "table"
           }
          ]
         },
         "layout": {
          "annotationdefaults": {
           "arrowcolor": "#2a3f5f",
           "arrowhead": 0,
           "arrowwidth": 1
          },
          "autotypenumbers": "strict",
          "coloraxis": {
           "colorbar": {
            "outlinewidth": 0,
            "ticks": ""
           }
          },
          "colorscale": {
           "diverging": [
            [
             0,
             "#8e0152"
            ],
            [
             0.1,
             "#c51b7d"
            ],
            [
             0.2,
             "#de77ae"
            ],
            [
             0.3,
             "#f1b6da"
            ],
            [
             0.4,
             "#fde0ef"
            ],
            [
             0.5,
             "#f7f7f7"
            ],
            [
             0.6,
             "#e6f5d0"
            ],
            [
             0.7,
             "#b8e186"
            ],
            [
             0.8,
             "#7fbc41"
            ],
            [
             0.9,
             "#4d9221"
            ],
            [
             1,
             "#276419"
            ]
           ],
           "sequential": [
            [
             0,
             "#0d0887"
            ],
            [
             0.1111111111111111,
             "#46039f"
            ],
            [
             0.2222222222222222,
             "#7201a8"
            ],
            [
             0.3333333333333333,
             "#9c179e"
            ],
            [
             0.4444444444444444,
             "#bd3786"
            ],
            [
             0.5555555555555556,
             "#d8576b"
            ],
            [
             0.6666666666666666,
             "#ed7953"
            ],
            [
             0.7777777777777778,
             "#fb9f3a"
            ],
            [
             0.8888888888888888,
             "#fdca26"
            ],
            [
             1,
             "#f0f921"
            ]
           ],
           "sequentialminus": [
            [
             0,
             "#0d0887"
            ],
            [
             0.1111111111111111,
             "#46039f"
            ],
            [
             0.2222222222222222,
             "#7201a8"
            ],
            [
             0.3333333333333333,
             "#9c179e"
            ],
            [
             0.4444444444444444,
             "#bd3786"
            ],
            [
             0.5555555555555556,
             "#d8576b"
            ],
            [
             0.6666666666666666,
             "#ed7953"
            ],
            [
             0.7777777777777778,
             "#fb9f3a"
            ],
            [
             0.8888888888888888,
             "#fdca26"
            ],
            [
             1,
             "#f0f921"
            ]
           ]
          },
          "colorway": [
           "#636efa",
           "#EF553B",
           "#00cc96",
           "#ab63fa",
           "#FFA15A",
           "#19d3f3",
           "#FF6692",
           "#B6E880",
           "#FF97FF",
           "#FECB52"
          ],
          "font": {
           "color": "#2a3f5f"
          },
          "geo": {
           "bgcolor": "white",
           "lakecolor": "white",
           "landcolor": "#E5ECF6",
           "showlakes": true,
           "showland": true,
           "subunitcolor": "white"
          },
          "hoverlabel": {
           "align": "left"
          },
          "hovermode": "closest",
          "mapbox": {
           "style": "light"
          },
          "paper_bgcolor": "white",
          "plot_bgcolor": "#E5ECF6",
          "polar": {
           "angularaxis": {
            "gridcolor": "white",
            "linecolor": "white",
            "ticks": ""
           },
           "bgcolor": "#E5ECF6",
           "radialaxis": {
            "gridcolor": "white",
            "linecolor": "white",
            "ticks": ""
           }
          },
          "scene": {
           "xaxis": {
            "backgroundcolor": "#E5ECF6",
            "gridcolor": "white",
            "gridwidth": 2,
            "linecolor": "white",
            "showbackground": true,
            "ticks": "",
            "zerolinecolor": "white"
           },
           "yaxis": {
            "backgroundcolor": "#E5ECF6",
            "gridcolor": "white",
            "gridwidth": 2,
            "linecolor": "white",
            "showbackground": true,
            "ticks": "",
            "zerolinecolor": "white"
           },
           "zaxis": {
            "backgroundcolor": "#E5ECF6",
            "gridcolor": "white",
            "gridwidth": 2,
            "linecolor": "white",
            "showbackground": true,
            "ticks": "",
            "zerolinecolor": "white"
           }
          },
          "shapedefaults": {
           "line": {
            "color": "#2a3f5f"
           }
          },
          "ternary": {
           "aaxis": {
            "gridcolor": "white",
            "linecolor": "white",
            "ticks": ""
           },
           "baxis": {
            "gridcolor": "white",
            "linecolor": "white",
            "ticks": ""
           },
           "bgcolor": "#E5ECF6",
           "caxis": {
            "gridcolor": "white",
            "linecolor": "white",
            "ticks": ""
           }
          },
          "title": {
           "x": 0.05
          },
          "xaxis": {
           "automargin": true,
           "gridcolor": "white",
           "linecolor": "white",
           "ticks": "",
           "title": {
            "standoff": 15
           },
           "zerolinecolor": "white",
           "zerolinewidth": 2
          },
          "yaxis": {
           "automargin": true,
           "gridcolor": "white",
           "linecolor": "white",
           "ticks": "",
           "title": {
            "standoff": 15
           },
           "zerolinecolor": "white",
           "zerolinewidth": 2
          }
         }
        },
        "width": 1500,
        "xaxis": {
         "anchor": "y",
         "domain": [
          0,
          0.94
         ],
         "tickfont": {
          "size": 25
         },
         "title": {
          "font": {
           "size": 30
          }
         }
        },
        "yaxis": {
         "anchor": "x",
         "domain": [
          0,
          1
         ],
         "tickfont": {
          "color": "blue",
          "size": 25
         },
         "tickformat": "2%",
         "title": {
          "font": {
           "color": "blue",
           "size": 30
          },
          "text": "<b>Variação (9 anos)<b>"
         }
        },
        "yaxis2": {
         "anchor": "x",
         "overlaying": "y",
         "range": [
          0,
          1500000
         ],
         "side": "right",
         "tickfont": {
          "color": "red",
          "size": 25
         },
         "title": {
          "font": {
           "color": "red",
           "size": 30
          },
          "text": "<b>Vendas totais no período (2014-2021)"
         }
        }
       }
      }
     },
     "metadata": {},
     "output_type": "display_data"
    }
   ],
   "source": [
    "fig = make_subplots(specs=[[{\"secondary_y\": True}]],shared_xaxes=True)\n",
    "\n",
    "fig.add_trace(go.Bar(\n",
    "    x=df_variation['PRINCIPIO_ATIVO'],\n",
    "    y=df_variation['variation'],\n",
    "    yaxis='y',\n",
    "    name='Crescimento (2014→2021)',\n",
    "    ))\n",
    "fig.add_trace(go.Bar(\n",
    "    x=df_subs_totals['PRINCIPIO_ATIVO'],\n",
    "    y=df_subs_totals['count'],\n",
    "    yaxis='y2',\n",
    "    name='Vendas totais no períoro (2014-2021)',\n",
    "    width=0.4,\n",
    "    opacity=0.2\n",
    "    )\n",
    "    )\n",
    "\n",
    "fig.update_layout(\n",
    "width=1500,\n",
    "height=1000,\n",
    "legend=dict(\n",
    "        x=0.57,\n",
    "        y=1,\n",
    "        traceorder=\"normal\",\n",
    "        font=dict(\n",
    "            family=\"sans-serif\",\n",
    "            size=25,\n",
    "            color=\"black\"\n",
    "        )),\n",
    "xaxis=dict(\n",
    "    # title='Data',\n",
    "    titlefont=dict(\n",
    "        size=30\n",
    "    ),\n",
    "    tickfont=dict(\n",
    "        size=25\n",
    "    )\n",
    "),\n",
    "\n",
    "yaxis=dict(\n",
    "    title=\"<b>Variação (9 anos)<b>\",\n",
    "    titlefont=dict(\n",
    "        color=\"blue\",\n",
    "        size=30\n",
    "        \n",
    "    ),\n",
    "    tickformat = \"2%\",\n",
    "\n",
    "    tickfont=dict(\n",
    "        color=\"blue\",\n",
    "        size=25\n",
    "    )\n",
    "),\n",
    "yaxis2=dict(\n",
    "    title=\"<b>Vendas totais no período (2014-2021)\",\n",
    "    titlefont=dict(\n",
    "        color=\"red\",\n",
    "        size=30\n",
    "    ),\n",
    "    tickfont=dict(\n",
    "        color=\"red\",\n",
    "        size=25\n",
    "    ),\n",
    "    #anchor=\"free\",\n",
    "    overlaying=\"y\",\n",
    "    side=\"right\",\n",
    "    range=[0,1500000]\n",
    "    # position=0.15\n",
    "))\n",
    "\n",
    "\n"
   ]
  },
  {
   "cell_type": "code",
   "execution_count": 63,
   "metadata": {},
   "outputs": [],
   "source": [
    "df_substances = TopSubstances(df,'1mo')\n",
    "\n",
    "\n",
    "\n",
    "df_crescimento = (df_substances\n",
    "            .groupby_dynamic(\n",
    "                index_column='DATETIME',by='PRINCIPIO_ATIVO', every='1mo', period='1mo'\n",
    "            )\n",
    "            .agg(\n",
    "                [pl.col('count').mean()]\n",
    "            )\n",
    "            .filter(\n",
    "                (\n",
    "                    pl.col('DATETIME')<=datetime(2014,1,1)\n",
    "                    )|\n",
    "                (\n",
    "                    pl.col('DATETIME')==datetime(2021,7,1)\n",
    "                    )\n",
    "                )\n",
    "            .groupby(\n",
    "                'PRINCIPIO_ATIVO'\n",
    "                )\n",
    "                .agg(\n",
    "                    pl.col('count')\n",
    "                    )\n",
    "            )\n",
    "\n",
    "df_crescimento_f = (df_substances\n",
    "            .groupby_dynamic(\n",
    "                index_column='DATETIME',by='PRINCIPIO_ATIVO', every='1mo', period='1mo'\n",
    "            )\n",
    "            .agg(\n",
    "                [pl.col('count').mean()]\n",
    "            )\n",
    "            .filter(\n",
    "                # (\n",
    "                #     pl.col('DATETIME')<=datetime(2014,1,1)\n",
    "                #     )|\n",
    "                (\n",
    "                    pl.col('DATETIME')==datetime(2021,7,1)\n",
    "                    )\n",
    "                )\n",
    "            .groupby(\n",
    "                'PRINCIPIO_ATIVO'\n",
    "                )\n",
    "                .agg(\n",
    "                    pl.col('count')\n",
    "                    )\n",
    "            )\n",
    "\n",
    "df_crescimento_l = (df_substances\n",
    "            .groupby_dynamic(\n",
    "                index_column='DATETIME',by='PRINCIPIO_ATIVO', every='1mo', period='1mo'\n",
    "            )\n",
    "            .agg(\n",
    "                [pl.col('count').mean()]\n",
    "            )\n",
    "            .filter(\n",
    "                (\n",
    "                    pl.col('DATETIME')<=datetime(2014,1,1)\n",
    "                    )\n",
    "                # (\n",
    "                #     pl.col('DATETIME')==datetime(2021,7,1)\n",
    "                #     )\n",
    "                )\n",
    "            .groupby(\n",
    "                'PRINCIPIO_ATIVO'\n",
    "                )\n",
    "                .agg(\n",
    "                    pl.col('count')\n",
    "                    )\n",
    "            )\n",
    "\n",
    "lista1 = df_crescimento_f['count'].to_list()\n",
    "lista2 = df_crescimento_l['count'].to_list()\n"
   ]
  },
  {
   "cell_type": "code",
   "execution_count": 66,
   "metadata": {},
   "outputs": [
    {
     "data": {
      "text/plain": [
       "[[12957.0],\n",
       " [17227.0],\n",
       " [10681.0],\n",
       " [8577.0],\n",
       " [11725.0],\n",
       " [18917.0],\n",
       " [10975.0],\n",
       " [8933.0],\n",
       " [12159.0],\n",
       " [13320.0]]"
      ]
     },
     "execution_count": 66,
     "metadata": {},
     "output_type": "execute_result"
    }
   ],
   "source": [
    "lista1[0:]"
   ]
  },
  {
   "cell_type": "code",
   "execution_count": 67,
   "metadata": {},
   "outputs": [
    {
     "data": {
      "text/html": [
       "<div>\n",
       "<style scoped>\n",
       "    .dataframe tbody tr th:only-of-type {\n",
       "        vertical-align: middle;\n",
       "    }\n",
       "\n",
       "    .dataframe tbody tr th {\n",
       "        vertical-align: top;\n",
       "    }\n",
       "\n",
       "    .dataframe thead th {\n",
       "        text-align: right;\n",
       "    }\n",
       "\n",
       "    .dataframe td {\n",
       "        white-space: pre;\n",
       "    }\n",
       "\n",
       "    .dataframe td {\n",
       "        padding-top: 0;\n",
       "    }\n",
       "\n",
       "    .dataframe td {\n",
       "        padding-bottom: 0;\n",
       "    }\n",
       "</style>\n",
       "<table border=\"1\" class=\"dataframe\">\n",
       "<small>shape: (10, 3)</small>\n",
       "<thead>\n",
       "<tr>\n",
       "<th>\n",
       "PRINCIPIO_ATIVO\n",
       "</th>\n",
       "<th>\n",
       "count\n",
       "</th>\n",
       "<th>\n",
       "1\n",
       "</th>\n",
       "</tr>\n",
       "<tr>\n",
       "<td>\n",
       "str\n",
       "</td>\n",
       "<td>\n",
       "list[f64]\n",
       "</td>\n",
       "<td>\n",
       "list[f64]\n",
       "</td>\n",
       "</tr>\n",
       "</thead>\n",
       "<tbody>\n",
       "<tr>\n",
       "<td>\n",
       "&quot;CLORIDRATO DE ...\n",
       "</td>\n",
       "<td>\n",
       "[10950.0, 8933.0]\n",
       "</td>\n",
       "<td>\n",
       "[12957.0]\n",
       "</td>\n",
       "</tr>\n",
       "<tr>\n",
       "<td>\n",
       "&quot;CLORIDRATO DE ...\n",
       "</td>\n",
       "<td>\n",
       "[11754.0, 13320.0]\n",
       "</td>\n",
       "<td>\n",
       "[17227.0]\n",
       "</td>\n",
       "</tr>\n",
       "<tr>\n",
       "<td>\n",
       "&quot;TOPIRAMATO&quot;\n",
       "</td>\n",
       "<td>\n",
       "[8150.0, 12159.0]\n",
       "</td>\n",
       "<td>\n",
       "[10681.0]\n",
       "</td>\n",
       "</tr>\n",
       "<tr>\n",
       "<td>\n",
       "&quot;CLORIDRATO DE ...\n",
       "</td>\n",
       "<td>\n",
       "[5760.0, 10681.0]\n",
       "</td>\n",
       "<td>\n",
       "[8577.0]\n",
       "</td>\n",
       "</tr>\n",
       "<tr>\n",
       "<td>\n",
       "&quot;TESTOSTERONA&quot;\n",
       "</td>\n",
       "<td>\n",
       "[4293.0, 18917.0]\n",
       "</td>\n",
       "<td>\n",
       "[11725.0]\n",
       "</td>\n",
       "</tr>\n",
       "<tr>\n",
       "<td>\n",
       "&quot;CLORIDRATO DE ...\n",
       "</td>\n",
       "<td>\n",
       "[8794.0, 12957.0]\n",
       "</td>\n",
       "<td>\n",
       "[18917.0]\n",
       "</td>\n",
       "</tr>\n",
       "<tr>\n",
       "<td>\n",
       "&quot;CLORIDRATO DE ...\n",
       "</td>\n",
       "<td>\n",
       "[13212.0, 11725.0]\n",
       "</td>\n",
       "<td>\n",
       "[10975.0]\n",
       "</td>\n",
       "</tr>\n",
       "<tr>\n",
       "<td>\n",
       "&quot;ESTOLATO DE ER...\n",
       "</td>\n",
       "<td>\n",
       "[10273.0, 10975.0]\n",
       "</td>\n",
       "<td>\n",
       "[8933.0]\n",
       "</td>\n",
       "</tr>\n",
       "<tr>\n",
       "<td>\n",
       "&quot;CLORIDRATO DE ...\n",
       "</td>\n",
       "<td>\n",
       "[9181.0, 8577.0]\n",
       "</td>\n",
       "<td>\n",
       "[12159.0]\n",
       "</td>\n",
       "</tr>\n",
       "<tr>\n",
       "<td>\n",
       "&quot;GABAPENTINA&quot;\n",
       "</td>\n",
       "<td>\n",
       "[4551.0, 17227.0]\n",
       "</td>\n",
       "<td>\n",
       "[13320.0]\n",
       "</td>\n",
       "</tr>\n",
       "</tbody>\n",
       "</table>\n",
       "</div>"
      ],
      "text/plain": [
       "shape: (10, 3)\n",
       "┌─────────────────────────────┬────────────────────┬───────────┐\n",
       "│ PRINCIPIO_ATIVO             ┆ count              ┆ 1         │\n",
       "│ ---                         ┆ ---                ┆ ---       │\n",
       "│ str                         ┆ list[f64]          ┆ list[f64] │\n",
       "╞═════════════════════════════╪════════════════════╪═══════════╡\n",
       "│ CLORIDRATO DE SERTRALINA    ┆ [10950.0, 8933.0]  ┆ [12957.0] │\n",
       "│ CLORIDRATO DE AMITRIPTILINA ┆ [11754.0, 13320.0] ┆ [17227.0] │\n",
       "│ TOPIRAMATO                  ┆ [8150.0, 12159.0]  ┆ [10681.0] │\n",
       "│ CLORIDRATO DE TRAMADOL      ┆ [5760.0, 10681.0]  ┆ [8577.0]  │\n",
       "│ ...                         ┆ ...                ┆ ...       │\n",
       "│ CLORIDRATO DE FLUOXETINA    ┆ [13212.0, 11725.0] ┆ [10975.0] │\n",
       "│ ESTOLATO DE ERITROMICINA    ┆ [10273.0, 10975.0] ┆ [8933.0]  │\n",
       "│ CLORIDRATO DE PAROXETINA    ┆ [9181.0, 8577.0]   ┆ [12159.0] │\n",
       "│ GABAPENTINA                 ┆ [4551.0, 17227.0]  ┆ [13320.0] │\n",
       "└─────────────────────────────┴────────────────────┴───────────┘"
      ]
     },
     "execution_count": 67,
     "metadata": {},
     "output_type": "execute_result"
    }
   ],
   "source": [
    "df_teste = df_crescimento.with_columns(pl.Series(name='1', values=lista1))\n",
    "df_teste"
   ]
  },
  {
   "attachments": {},
   "cell_type": "markdown",
   "metadata": {},
   "source": [
    "## Estudo sobre testosterona"
   ]
  },
  {
   "cell_type": "code",
   "execution_count": 13,
   "metadata": {},
   "outputs": [],
   "source": [
    "df_substances = TopSubstances(df,'1mo')\n",
    "df_substances = df_substances.to_pandas()\n",
    "\n",
    "lf_gt = googleLFDataPrep(lf_gt)\n",
    "lf_gt = lf_gt.to_pandas()\n",
    "\n",
    "\n",
    "lf_hp = googleLFDataPrep(lf_hp)\n",
    "lf_hp = lf_hp.to_pandas()"
   ]
  },
  {
   "cell_type": "code",
   "execution_count": 151,
   "metadata": {},
   "outputs": [
    {
     "data": {
      "application/vnd.plotly.v1+json": {
       "config": {
        "plotlyServerURL": "https://plot.ly"
       },
       "data": [
        {
         "line": {
          "shape": "spline",
          "width": 7
         },
         "marker": {
          "color": "red"
         },
         "mode": "lines",
         "name": "Testosterona",
         "opacity": 1,
         "type": "scatter",
         "x": [
          "2014-01-01T00:00:00",
          "2014-02-01T00:00:00",
          "2014-03-01T00:00:00",
          "2014-04-01T00:00:00",
          "2014-05-01T00:00:00",
          "2014-06-01T00:00:00",
          "2014-07-01T00:00:00",
          "2014-08-01T00:00:00",
          "2014-09-01T00:00:00",
          "2014-10-01T00:00:00",
          "2014-11-01T00:00:00",
          "2014-12-01T00:00:00",
          "2015-01-01T00:00:00",
          "2015-02-01T00:00:00",
          "2015-03-01T00:00:00",
          "2015-04-01T00:00:00",
          "2015-05-01T00:00:00",
          "2015-06-01T00:00:00",
          "2015-07-01T00:00:00",
          "2015-08-01T00:00:00",
          "2015-09-01T00:00:00",
          "2015-10-01T00:00:00",
          "2015-11-01T00:00:00",
          "2015-12-01T00:00:00",
          "2016-01-01T00:00:00",
          "2016-02-01T00:00:00",
          "2016-03-01T00:00:00",
          "2016-04-01T00:00:00",
          "2016-05-01T00:00:00",
          "2016-06-01T00:00:00",
          "2016-07-01T00:00:00",
          "2016-08-01T00:00:00",
          "2016-09-01T00:00:00",
          "2016-10-01T00:00:00",
          "2016-11-01T00:00:00",
          "2016-12-01T00:00:00",
          "2017-01-01T00:00:00",
          "2017-02-01T00:00:00",
          "2017-03-01T00:00:00",
          "2017-04-01T00:00:00",
          "2017-05-01T00:00:00",
          "2017-06-01T00:00:00",
          "2017-07-01T00:00:00",
          "2017-08-01T00:00:00",
          "2017-09-01T00:00:00",
          "2017-10-01T00:00:00",
          "2017-11-01T00:00:00",
          "2017-12-01T00:00:00",
          "2018-01-01T00:00:00",
          "2018-02-01T00:00:00",
          "2018-03-01T00:00:00",
          "2018-04-01T00:00:00",
          "2018-05-01T00:00:00",
          "2018-06-01T00:00:00",
          "2018-07-01T00:00:00",
          "2018-08-01T00:00:00",
          "2018-09-01T00:00:00",
          "2018-10-01T00:00:00",
          "2018-11-01T00:00:00",
          "2018-12-01T00:00:00",
          "2019-01-01T00:00:00",
          "2019-02-01T00:00:00",
          "2019-03-01T00:00:00",
          "2019-04-01T00:00:00",
          "2019-05-01T00:00:00",
          "2019-06-01T00:00:00",
          "2019-07-01T00:00:00",
          "2019-08-01T00:00:00",
          "2019-09-01T00:00:00",
          "2019-10-01T00:00:00",
          "2019-11-01T00:00:00",
          "2019-12-01T00:00:00",
          "2020-01-01T00:00:00",
          "2020-02-01T00:00:00",
          "2020-03-01T00:00:00",
          "2020-04-01T00:00:00",
          "2020-05-01T00:00:00",
          "2020-06-01T00:00:00",
          "2020-07-01T00:00:00",
          "2020-08-01T00:00:00",
          "2020-09-01T00:00:00",
          "2020-10-01T00:00:00",
          "2020-11-01T00:00:00",
          "2020-12-01T00:00:00",
          "2021-01-01T00:00:00",
          "2021-02-01T00:00:00",
          "2021-03-01T00:00:00",
          "2021-04-01T00:00:00",
          "2021-05-01T00:00:00",
          "2021-06-01T00:00:00",
          "2021-07-01T00:00:00"
         ],
         "xaxis": "x",
         "y": [
          4293,
          4631,
          4614,
          4882,
          5096,
          4771,
          5323,
          5336,
          5319,
          5613,
          5534,
          5599,
          5329,
          5363,
          6254,
          5972,
          6240,
          6328,
          6628,
          6666,
          6932,
          7133,
          7161,
          7281,
          6476,
          6940,
          7598,
          7246,
          7824,
          8337,
          8042,
          8500,
          8397,
          8417,
          8610,
          8787,
          8079,
          8268,
          9626,
          8757,
          9919,
          9744,
          9830,
          10639,
          10242,
          10892,
          10928,
          10977,
          10855,
          10283,
          11459,
          11837,
          11916,
          12315,
          12602,
          13969,
          12688,
          14048,
          13719,
          13409,
          13095,
          13368,
          13076,
          13760,
          13901,
          13274,
          14016,
          14307,
          14352,
          14937,
          14262,
          14265,
          13931,
          13633,
          13764,
          11598,
          12624,
          13808,
          14879,
          15128,
          15781,
          16842,
          16698,
          17311,
          15751,
          16366,
          18214,
          17486,
          18090,
          18532,
          18917
         ],
         "yaxis": "y"
        },
        {
         "line": {
          "color": "blue",
          "shape": "spline",
          "width": 5
         },
         "marker": {
          "size": 11,
          "symbol": "53"
         },
         "mode": "lines",
         "name": "Google Trends: Impotência",
         "opacity": 0.3,
         "type": "scatter",
         "x": [
          "2014-01-01T00:00:00",
          "2014-02-01T00:00:00",
          "2014-03-01T00:00:00",
          "2014-04-01T00:00:00",
          "2014-05-01T00:00:00",
          "2014-06-01T00:00:00",
          "2014-07-01T00:00:00",
          "2014-08-01T00:00:00",
          "2014-09-01T00:00:00",
          "2014-10-01T00:00:00",
          "2014-11-01T00:00:00",
          "2014-12-01T00:00:00",
          "2015-01-01T00:00:00",
          "2015-02-01T00:00:00",
          "2015-03-01T00:00:00",
          "2015-04-01T00:00:00",
          "2015-05-01T00:00:00",
          "2015-06-01T00:00:00",
          "2015-07-01T00:00:00",
          "2015-08-01T00:00:00",
          "2015-09-01T00:00:00",
          "2015-10-01T00:00:00",
          "2015-11-01T00:00:00",
          "2015-12-01T00:00:00",
          "2016-01-01T00:00:00",
          "2016-02-01T00:00:00",
          "2016-03-01T00:00:00",
          "2016-04-01T00:00:00",
          "2016-05-01T00:00:00",
          "2016-06-01T00:00:00",
          "2016-07-01T00:00:00",
          "2016-08-01T00:00:00",
          "2016-09-01T00:00:00",
          "2016-10-01T00:00:00",
          "2016-11-01T00:00:00",
          "2016-12-01T00:00:00",
          "2017-01-01T00:00:00",
          "2017-02-01T00:00:00",
          "2017-03-01T00:00:00",
          "2017-04-01T00:00:00",
          "2017-05-01T00:00:00",
          "2017-06-01T00:00:00",
          "2017-07-01T00:00:00",
          "2017-08-01T00:00:00",
          "2017-09-01T00:00:00",
          "2017-10-01T00:00:00",
          "2017-11-01T00:00:00",
          "2017-12-01T00:00:00",
          "2018-01-01T00:00:00",
          "2018-02-01T00:00:00",
          "2018-03-01T00:00:00",
          "2018-04-01T00:00:00",
          "2018-05-01T00:00:00",
          "2018-06-01T00:00:00",
          "2018-07-01T00:00:00",
          "2018-08-01T00:00:00",
          "2018-09-01T00:00:00",
          "2018-10-01T00:00:00",
          "2018-11-01T00:00:00",
          "2018-12-01T00:00:00",
          "2019-01-01T00:00:00",
          "2019-02-01T00:00:00",
          "2019-03-01T00:00:00",
          "2019-04-01T00:00:00",
          "2019-05-01T00:00:00",
          "2019-06-01T00:00:00",
          "2019-07-01T00:00:00",
          "2019-08-01T00:00:00",
          "2019-09-01T00:00:00",
          "2019-10-01T00:00:00",
          "2019-11-01T00:00:00",
          "2019-12-01T00:00:00",
          "2020-01-01T00:00:00",
          "2020-02-01T00:00:00",
          "2020-03-01T00:00:00",
          "2020-04-01T00:00:00",
          "2020-05-01T00:00:00",
          "2020-06-01T00:00:00",
          "2020-07-01T00:00:00",
          "2020-08-01T00:00:00",
          "2020-09-01T00:00:00",
          "2020-10-01T00:00:00",
          "2020-11-01T00:00:00",
          "2020-12-01T00:00:00",
          "2021-01-01T00:00:00",
          "2021-02-01T00:00:00",
          "2021-03-01T00:00:00",
          "2021-04-01T00:00:00",
          "2021-05-01T00:00:00",
          "2021-06-01T00:00:00",
          "2021-07-01T00:00:00"
         ],
         "xaxis": "x",
         "y": [
          19,
          18,
          20,
          20,
          22,
          27,
          23,
          24,
          27,
          19,
          23,
          22,
          24,
          30,
          28,
          26,
          33,
          33,
          39,
          37,
          37,
          34,
          35,
          31,
          38,
          31,
          41,
          36,
          32,
          39,
          41,
          39,
          41,
          38,
          44,
          35,
          40,
          45,
          43,
          40,
          41,
          48,
          48,
          46,
          45,
          46,
          44,
          44,
          40,
          48,
          54,
          54,
          58,
          60,
          55,
          63,
          58,
          54,
          61,
          58,
          62,
          75,
          68,
          66,
          69,
          66,
          73,
          64,
          68,
          62,
          60,
          61,
          66,
          73,
          59,
          77,
          84,
          99,
          97,
          90,
          90,
          81,
          80,
          94,
          88,
          97,
          94,
          89,
          96,
          96,
          100
         ],
         "yaxis": "y2"
        },
        {
         "line": {
          "color": "violet",
          "shape": "spline",
          "width": 5
         },
         "marker": {
          "size": 11,
          "symbol": "51"
         },
         "mode": "lines",
         "name": "Google Trends: Hipertrofia",
         "opacity": 0.3,
         "type": "scatter",
         "x": [
          "2014-01-01T00:00:00",
          "2014-02-01T00:00:00",
          "2014-03-01T00:00:00",
          "2014-04-01T00:00:00",
          "2014-05-01T00:00:00",
          "2014-06-01T00:00:00",
          "2014-07-01T00:00:00",
          "2014-08-01T00:00:00",
          "2014-09-01T00:00:00",
          "2014-10-01T00:00:00",
          "2014-11-01T00:00:00",
          "2014-12-01T00:00:00",
          "2015-01-01T00:00:00",
          "2015-02-01T00:00:00",
          "2015-03-01T00:00:00",
          "2015-04-01T00:00:00",
          "2015-05-01T00:00:00",
          "2015-06-01T00:00:00",
          "2015-07-01T00:00:00",
          "2015-08-01T00:00:00",
          "2015-09-01T00:00:00",
          "2015-10-01T00:00:00",
          "2015-11-01T00:00:00",
          "2015-12-01T00:00:00",
          "2016-01-01T00:00:00",
          "2016-02-01T00:00:00",
          "2016-03-01T00:00:00",
          "2016-04-01T00:00:00",
          "2016-05-01T00:00:00",
          "2016-06-01T00:00:00",
          "2016-07-01T00:00:00",
          "2016-08-01T00:00:00",
          "2016-09-01T00:00:00",
          "2016-10-01T00:00:00",
          "2016-11-01T00:00:00",
          "2016-12-01T00:00:00",
          "2017-01-01T00:00:00",
          "2017-02-01T00:00:00",
          "2017-03-01T00:00:00",
          "2017-04-01T00:00:00",
          "2017-05-01T00:00:00",
          "2017-06-01T00:00:00",
          "2017-07-01T00:00:00",
          "2017-08-01T00:00:00",
          "2017-09-01T00:00:00",
          "2017-10-01T00:00:00",
          "2017-11-01T00:00:00",
          "2017-12-01T00:00:00",
          "2018-01-01T00:00:00",
          "2018-02-01T00:00:00",
          "2018-03-01T00:00:00",
          "2018-04-01T00:00:00",
          "2018-05-01T00:00:00",
          "2018-06-01T00:00:00",
          "2018-07-01T00:00:00",
          "2018-08-01T00:00:00",
          "2018-09-01T00:00:00",
          "2018-10-01T00:00:00",
          "2018-11-01T00:00:00",
          "2018-12-01T00:00:00",
          "2019-01-01T00:00:00",
          "2019-02-01T00:00:00",
          "2019-03-01T00:00:00",
          "2019-04-01T00:00:00",
          "2019-05-01T00:00:00",
          "2019-06-01T00:00:00",
          "2019-07-01T00:00:00",
          "2019-08-01T00:00:00",
          "2019-09-01T00:00:00",
          "2019-10-01T00:00:00",
          "2019-11-01T00:00:00",
          "2019-12-01T00:00:00",
          "2020-01-01T00:00:00",
          "2020-02-01T00:00:00",
          "2020-03-01T00:00:00",
          "2020-04-01T00:00:00",
          "2020-05-01T00:00:00",
          "2020-06-01T00:00:00",
          "2020-07-01T00:00:00",
          "2020-08-01T00:00:00",
          "2020-09-01T00:00:00",
          "2020-10-01T00:00:00",
          "2020-11-01T00:00:00",
          "2020-12-01T00:00:00",
          "2021-01-01T00:00:00",
          "2021-02-01T00:00:00",
          "2021-03-01T00:00:00",
          "2021-04-01T00:00:00",
          "2021-05-01T00:00:00",
          "2021-06-01T00:00:00",
          "2021-07-01T00:00:00"
         ],
         "xaxis": "x",
         "y": [
          97,
          98,
          84,
          80,
          82,
          75,
          85,
          95,
          99,
          90,
          90,
          78,
          100,
          87,
          85,
          74,
          82,
          77,
          75,
          87,
          80,
          87,
          76,
          73,
          75,
          70,
          66,
          69,
          68,
          67,
          70,
          66,
          68,
          60,
          65,
          54,
          70,
          60,
          62,
          58,
          53,
          51,
          57,
          67,
          62,
          61,
          56,
          49,
          58,
          54,
          57,
          53,
          53,
          50,
          55,
          60,
          57,
          52,
          52,
          46,
          56,
          55,
          52,
          50,
          51,
          49,
          54,
          55,
          55,
          54,
          49,
          43,
          55,
          50,
          43,
          29,
          32,
          35,
          41,
          48,
          52,
          52,
          47,
          41,
          49,
          48,
          41,
          43,
          48,
          49,
          50
         ],
         "yaxis": "y2"
        }
       ],
       "layout": {
        "height": 1000,
        "template": {
         "data": {
          "bar": [
           {
            "error_x": {
             "color": "#2a3f5f"
            },
            "error_y": {
             "color": "#2a3f5f"
            },
            "marker": {
             "line": {
              "color": "#E5ECF6",
              "width": 0.5
             },
             "pattern": {
              "fillmode": "overlay",
              "size": 10,
              "solidity": 0.2
             }
            },
            "type": "bar"
           }
          ],
          "barpolar": [
           {
            "marker": {
             "line": {
              "color": "#E5ECF6",
              "width": 0.5
             },
             "pattern": {
              "fillmode": "overlay",
              "size": 10,
              "solidity": 0.2
             }
            },
            "type": "barpolar"
           }
          ],
          "carpet": [
           {
            "aaxis": {
             "endlinecolor": "#2a3f5f",
             "gridcolor": "white",
             "linecolor": "white",
             "minorgridcolor": "white",
             "startlinecolor": "#2a3f5f"
            },
            "baxis": {
             "endlinecolor": "#2a3f5f",
             "gridcolor": "white",
             "linecolor": "white",
             "minorgridcolor": "white",
             "startlinecolor": "#2a3f5f"
            },
            "type": "carpet"
           }
          ],
          "choropleth": [
           {
            "colorbar": {
             "outlinewidth": 0,
             "ticks": ""
            },
            "type": "choropleth"
           }
          ],
          "contour": [
           {
            "colorbar": {
             "outlinewidth": 0,
             "ticks": ""
            },
            "colorscale": [
             [
              0,
              "#0d0887"
             ],
             [
              0.1111111111111111,
              "#46039f"
             ],
             [
              0.2222222222222222,
              "#7201a8"
             ],
             [
              0.3333333333333333,
              "#9c179e"
             ],
             [
              0.4444444444444444,
              "#bd3786"
             ],
             [
              0.5555555555555556,
              "#d8576b"
             ],
             [
              0.6666666666666666,
              "#ed7953"
             ],
             [
              0.7777777777777778,
              "#fb9f3a"
             ],
             [
              0.8888888888888888,
              "#fdca26"
             ],
             [
              1,
              "#f0f921"
             ]
            ],
            "type": "contour"
           }
          ],
          "contourcarpet": [
           {
            "colorbar": {
             "outlinewidth": 0,
             "ticks": ""
            },
            "type": "contourcarpet"
           }
          ],
          "heatmap": [
           {
            "colorbar": {
             "outlinewidth": 0,
             "ticks": ""
            },
            "colorscale": [
             [
              0,
              "#0d0887"
             ],
             [
              0.1111111111111111,
              "#46039f"
             ],
             [
              0.2222222222222222,
              "#7201a8"
             ],
             [
              0.3333333333333333,
              "#9c179e"
             ],
             [
              0.4444444444444444,
              "#bd3786"
             ],
             [
              0.5555555555555556,
              "#d8576b"
             ],
             [
              0.6666666666666666,
              "#ed7953"
             ],
             [
              0.7777777777777778,
              "#fb9f3a"
             ],
             [
              0.8888888888888888,
              "#fdca26"
             ],
             [
              1,
              "#f0f921"
             ]
            ],
            "type": "heatmap"
           }
          ],
          "heatmapgl": [
           {
            "colorbar": {
             "outlinewidth": 0,
             "ticks": ""
            },
            "colorscale": [
             [
              0,
              "#0d0887"
             ],
             [
              0.1111111111111111,
              "#46039f"
             ],
             [
              0.2222222222222222,
              "#7201a8"
             ],
             [
              0.3333333333333333,
              "#9c179e"
             ],
             [
              0.4444444444444444,
              "#bd3786"
             ],
             [
              0.5555555555555556,
              "#d8576b"
             ],
             [
              0.6666666666666666,
              "#ed7953"
             ],
             [
              0.7777777777777778,
              "#fb9f3a"
             ],
             [
              0.8888888888888888,
              "#fdca26"
             ],
             [
              1,
              "#f0f921"
             ]
            ],
            "type": "heatmapgl"
           }
          ],
          "histogram": [
           {
            "marker": {
             "pattern": {
              "fillmode": "overlay",
              "size": 10,
              "solidity": 0.2
             }
            },
            "type": "histogram"
           }
          ],
          "histogram2d": [
           {
            "colorbar": {
             "outlinewidth": 0,
             "ticks": ""
            },
            "colorscale": [
             [
              0,
              "#0d0887"
             ],
             [
              0.1111111111111111,
              "#46039f"
             ],
             [
              0.2222222222222222,
              "#7201a8"
             ],
             [
              0.3333333333333333,
              "#9c179e"
             ],
             [
              0.4444444444444444,
              "#bd3786"
             ],
             [
              0.5555555555555556,
              "#d8576b"
             ],
             [
              0.6666666666666666,
              "#ed7953"
             ],
             [
              0.7777777777777778,
              "#fb9f3a"
             ],
             [
              0.8888888888888888,
              "#fdca26"
             ],
             [
              1,
              "#f0f921"
             ]
            ],
            "type": "histogram2d"
           }
          ],
          "histogram2dcontour": [
           {
            "colorbar": {
             "outlinewidth": 0,
             "ticks": ""
            },
            "colorscale": [
             [
              0,
              "#0d0887"
             ],
             [
              0.1111111111111111,
              "#46039f"
             ],
             [
              0.2222222222222222,
              "#7201a8"
             ],
             [
              0.3333333333333333,
              "#9c179e"
             ],
             [
              0.4444444444444444,
              "#bd3786"
             ],
             [
              0.5555555555555556,
              "#d8576b"
             ],
             [
              0.6666666666666666,
              "#ed7953"
             ],
             [
              0.7777777777777778,
              "#fb9f3a"
             ],
             [
              0.8888888888888888,
              "#fdca26"
             ],
             [
              1,
              "#f0f921"
             ]
            ],
            "type": "histogram2dcontour"
           }
          ],
          "mesh3d": [
           {
            "colorbar": {
             "outlinewidth": 0,
             "ticks": ""
            },
            "type": "mesh3d"
           }
          ],
          "parcoords": [
           {
            "line": {
             "colorbar": {
              "outlinewidth": 0,
              "ticks": ""
             }
            },
            "type": "parcoords"
           }
          ],
          "pie": [
           {
            "automargin": true,
            "type": "pie"
           }
          ],
          "scatter": [
           {
            "fillpattern": {
             "fillmode": "overlay",
             "size": 10,
             "solidity": 0.2
            },
            "type": "scatter"
           }
          ],
          "scatter3d": [
           {
            "line": {
             "colorbar": {
              "outlinewidth": 0,
              "ticks": ""
             }
            },
            "marker": {
             "colorbar": {
              "outlinewidth": 0,
              "ticks": ""
             }
            },
            "type": "scatter3d"
           }
          ],
          "scattercarpet": [
           {
            "marker": {
             "colorbar": {
              "outlinewidth": 0,
              "ticks": ""
             }
            },
            "type": "scattercarpet"
           }
          ],
          "scattergeo": [
           {
            "marker": {
             "colorbar": {
              "outlinewidth": 0,
              "ticks": ""
             }
            },
            "type": "scattergeo"
           }
          ],
          "scattergl": [
           {
            "marker": {
             "colorbar": {
              "outlinewidth": 0,
              "ticks": ""
             }
            },
            "type": "scattergl"
           }
          ],
          "scattermapbox": [
           {
            "marker": {
             "colorbar": {
              "outlinewidth": 0,
              "ticks": ""
             }
            },
            "type": "scattermapbox"
           }
          ],
          "scatterpolar": [
           {
            "marker": {
             "colorbar": {
              "outlinewidth": 0,
              "ticks": ""
             }
            },
            "type": "scatterpolar"
           }
          ],
          "scatterpolargl": [
           {
            "marker": {
             "colorbar": {
              "outlinewidth": 0,
              "ticks": ""
             }
            },
            "type": "scatterpolargl"
           }
          ],
          "scatterternary": [
           {
            "marker": {
             "colorbar": {
              "outlinewidth": 0,
              "ticks": ""
             }
            },
            "type": "scatterternary"
           }
          ],
          "surface": [
           {
            "colorbar": {
             "outlinewidth": 0,
             "ticks": ""
            },
            "colorscale": [
             [
              0,
              "#0d0887"
             ],
             [
              0.1111111111111111,
              "#46039f"
             ],
             [
              0.2222222222222222,
              "#7201a8"
             ],
             [
              0.3333333333333333,
              "#9c179e"
             ],
             [
              0.4444444444444444,
              "#bd3786"
             ],
             [
              0.5555555555555556,
              "#d8576b"
             ],
             [
              0.6666666666666666,
              "#ed7953"
             ],
             [
              0.7777777777777778,
              "#fb9f3a"
             ],
             [
              0.8888888888888888,
              "#fdca26"
             ],
             [
              1,
              "#f0f921"
             ]
            ],
            "type": "surface"
           }
          ],
          "table": [
           {
            "cells": {
             "fill": {
              "color": "#EBF0F8"
             },
             "line": {
              "color": "white"
             }
            },
            "header": {
             "fill": {
              "color": "#C8D4E3"
             },
             "line": {
              "color": "white"
             }
            },
            "type": "table"
           }
          ]
         },
         "layout": {
          "annotationdefaults": {
           "arrowcolor": "#2a3f5f",
           "arrowhead": 0,
           "arrowwidth": 1
          },
          "autotypenumbers": "strict",
          "coloraxis": {
           "colorbar": {
            "outlinewidth": 0,
            "ticks": ""
           }
          },
          "colorscale": {
           "diverging": [
            [
             0,
             "#8e0152"
            ],
            [
             0.1,
             "#c51b7d"
            ],
            [
             0.2,
             "#de77ae"
            ],
            [
             0.3,
             "#f1b6da"
            ],
            [
             0.4,
             "#fde0ef"
            ],
            [
             0.5,
             "#f7f7f7"
            ],
            [
             0.6,
             "#e6f5d0"
            ],
            [
             0.7,
             "#b8e186"
            ],
            [
             0.8,
             "#7fbc41"
            ],
            [
             0.9,
             "#4d9221"
            ],
            [
             1,
             "#276419"
            ]
           ],
           "sequential": [
            [
             0,
             "#0d0887"
            ],
            [
             0.1111111111111111,
             "#46039f"
            ],
            [
             0.2222222222222222,
             "#7201a8"
            ],
            [
             0.3333333333333333,
             "#9c179e"
            ],
            [
             0.4444444444444444,
             "#bd3786"
            ],
            [
             0.5555555555555556,
             "#d8576b"
            ],
            [
             0.6666666666666666,
             "#ed7953"
            ],
            [
             0.7777777777777778,
             "#fb9f3a"
            ],
            [
             0.8888888888888888,
             "#fdca26"
            ],
            [
             1,
             "#f0f921"
            ]
           ],
           "sequentialminus": [
            [
             0,
             "#0d0887"
            ],
            [
             0.1111111111111111,
             "#46039f"
            ],
            [
             0.2222222222222222,
             "#7201a8"
            ],
            [
             0.3333333333333333,
             "#9c179e"
            ],
            [
             0.4444444444444444,
             "#bd3786"
            ],
            [
             0.5555555555555556,
             "#d8576b"
            ],
            [
             0.6666666666666666,
             "#ed7953"
            ],
            [
             0.7777777777777778,
             "#fb9f3a"
            ],
            [
             0.8888888888888888,
             "#fdca26"
            ],
            [
             1,
             "#f0f921"
            ]
           ]
          },
          "colorway": [
           "#636efa",
           "#EF553B",
           "#00cc96",
           "#ab63fa",
           "#FFA15A",
           "#19d3f3",
           "#FF6692",
           "#B6E880",
           "#FF97FF",
           "#FECB52"
          ],
          "font": {
           "color": "#2a3f5f"
          },
          "geo": {
           "bgcolor": "white",
           "lakecolor": "white",
           "landcolor": "#E5ECF6",
           "showlakes": true,
           "showland": true,
           "subunitcolor": "white"
          },
          "hoverlabel": {
           "align": "left"
          },
          "hovermode": "closest",
          "mapbox": {
           "style": "light"
          },
          "paper_bgcolor": "white",
          "plot_bgcolor": "#E5ECF6",
          "polar": {
           "angularaxis": {
            "gridcolor": "white",
            "linecolor": "white",
            "ticks": ""
           },
           "bgcolor": "#E5ECF6",
           "radialaxis": {
            "gridcolor": "white",
            "linecolor": "white",
            "ticks": ""
           }
          },
          "scene": {
           "xaxis": {
            "backgroundcolor": "#E5ECF6",
            "gridcolor": "white",
            "gridwidth": 2,
            "linecolor": "white",
            "showbackground": true,
            "ticks": "",
            "zerolinecolor": "white"
           },
           "yaxis": {
            "backgroundcolor": "#E5ECF6",
            "gridcolor": "white",
            "gridwidth": 2,
            "linecolor": "white",
            "showbackground": true,
            "ticks": "",
            "zerolinecolor": "white"
           },
           "zaxis": {
            "backgroundcolor": "#E5ECF6",
            "gridcolor": "white",
            "gridwidth": 2,
            "linecolor": "white",
            "showbackground": true,
            "ticks": "",
            "zerolinecolor": "white"
           }
          },
          "shapedefaults": {
           "line": {
            "color": "#2a3f5f"
           }
          },
          "ternary": {
           "aaxis": {
            "gridcolor": "white",
            "linecolor": "white",
            "ticks": ""
           },
           "baxis": {
            "gridcolor": "white",
            "linecolor": "white",
            "ticks": ""
           },
           "bgcolor": "#E5ECF6",
           "caxis": {
            "gridcolor": "white",
            "linecolor": "white",
            "ticks": ""
           }
          },
          "title": {
           "x": 0.05
          },
          "xaxis": {
           "automargin": true,
           "gridcolor": "white",
           "linecolor": "white",
           "ticks": "",
           "title": {
            "standoff": 15
           },
           "zerolinecolor": "white",
           "zerolinewidth": 2
          },
          "yaxis": {
           "automargin": true,
           "gridcolor": "white",
           "linecolor": "white",
           "ticks": "",
           "title": {
            "standoff": 15
           },
           "zerolinecolor": "white",
           "zerolinewidth": 2
          }
         }
        },
        "width": 1500,
        "xaxis": {
         "anchor": "y",
         "domain": [
          0,
          0.94
         ],
         "tickfont": {
          "size": 25
         },
         "title": {
          "font": {
           "size": 30
          },
          "text": "Data"
         }
        },
        "yaxis": {
         "anchor": "x",
         "domain": [
          0,
          1
         ],
         "tickfont": {
          "color": "red",
          "size": 25
         },
         "title": {
          "font": {
           "color": "red",
           "size": 30
          },
          "text": "<b>Quantidade vendida<b>"
         }
        },
        "yaxis2": {
         "anchor": "x",
         "overlaying": "y",
         "side": "right",
         "tickfont": {
          "color": "black",
          "size": 25
         },
         "title": {
          "font": {
           "color": "black",
           "size": 30
          },
          "text": "Google trends (interesse no termo)"
         }
        }
       }
      }
     },
     "metadata": {},
     "output_type": "display_data"
    }
   ],
   "source": [
    "fig = make_subplots(specs=[[{\"secondary_y\": True}]],shared_xaxes=True,)\n",
    "\n",
    "fig.add_trace(go.Scatter(\n",
    "                        x=df_substances['DATETIME'],\n",
    "                        y=df_substances['count'],\n",
    "                        yaxis='y',\n",
    "                        mode='lines',\n",
    "                        marker=dict(\n",
    "                            color='red'\n",
    "                            ),\n",
    "                        line=dict(\n",
    "                            width=7\n",
    "                            ),\n",
    "                        opacity=1,\n",
    "                        name='Testosterona',\n",
    "                        line_shape='spline'\n",
    "                        ),\n",
    "                        secondary_y=False\n",
    "    )\n",
    "\n",
    "fig.add_trace(go.Scatter(\n",
    "                        x=lf_gt['Mês'], \n",
    "                        y=lf_gt['impotência: (Brasil)'],\n",
    "                        yaxis='y1',\n",
    "                        mode='lines',\n",
    "                        name='Google Trends: Impotência',\n",
    "                        marker=dict(\n",
    "                            symbol='53',\n",
    "                            size=11\n",
    "\n",
    "                        ),\n",
    "                        line = dict(\n",
    "                            color='blue',\n",
    "                            width=5\n",
    "                            ),\n",
    "                        opacity=0.3,\n",
    "                        line_shape='spline'\n",
    "                        ),\n",
    "                        secondary_y=True\n",
    "    )\n",
    "\n",
    "fig.add_trace(go.Scatter(\n",
    "                        x=lf_hp['Mês'], \n",
    "                        y=lf_hp['Hipertrofia: (Brasil)'],\n",
    "                        yaxis='y1',\n",
    "                        mode='lines',\n",
    "                        name='Google Trends: Hipertrofia',\n",
    "                        marker=dict(\n",
    "                            symbol='51',\n",
    "                            size=11\n",
    "\n",
    "                        ),\n",
    "                        line = dict(\n",
    "                            color='violet',\n",
    "                            width=5\n",
    "                            ),\n",
    "                        opacity=0.3,\n",
    "                        line_shape='spline'\n",
    "                        ),\n",
    "                        secondary_y=True\n",
    "                        )\n",
    "\n",
    "\n",
    "fig.update_layout(\n",
    "    xaxis=dict(\n",
    "        title='Data',\n",
    "        titlefont=dict(\n",
    "            size=30\n",
    "        ),\n",
    "        tickfont=dict(\n",
    "            size=25\n",
    "        )\n",
    "    ),\n",
    "    width=1500,\n",
    "    height=1000,\n",
    "    yaxis=dict(\n",
    "        title=\"<b>Quantidade vendida<b>\",\n",
    "        titlefont=dict(\n",
    "            color=\"red\",\n",
    "            size=30\n",
    "            \n",
    "        ),\n",
    "        tickfont=dict(\n",
    "            color=\"red\",\n",
    "            size=25\n",
    "        )\n",
    "    ),\n",
    "    yaxis2=dict(\n",
    "        title=\"Google trends (interesse no termo)\",\n",
    "        titlefont=dict(\n",
    "            color=\"black\",\n",
    "            size=30\n",
    "        ),\n",
    "        tickfont=dict(\n",
    "            color=\"black\",\n",
    "            size=25\n",
    "        ),\n",
    "        # anchor=\"free\",\n",
    "        overlaying=\"y\",\n",
    "        side=\"right\",\n",
    "        # position=0.15\n",
    "    ))\n",
    "\n",
    "\n",
    "fig.show()"
   ]
  },
  {
   "cell_type": "code",
   "execution_count": null,
   "metadata": {},
   "outputs": [],
   "source": []
  },
  {
   "attachments": {},
   "cell_type": "markdown",
   "metadata": {},
   "source": [
    "## Analisando os anti-depressivos "
   ]
  },
  {
   "cell_type": "code",
   "execution_count": null,
   "metadata": {},
   "outputs": [],
   "source": []
  }
 ],
 "metadata": {
  "kernelspec": {
   "display_name": "polars3",
   "language": "python",
   "name": "python3"
  },
  "language_info": {
   "codemirror_mode": {
    "name": "ipython",
    "version": 3
   },
   "file_extension": ".py",
   "mimetype": "text/x-python",
   "name": "python",
   "nbconvert_exporter": "python",
   "pygments_lexer": "ipython3",
   "version": "3.10.9"
  },
  "orig_nbformat": 4,
  "vscode": {
   "interpreter": {
    "hash": "cd51970b8eaab2906b8efb04c61196ca2335f67815466ea79afc0fe862a18057"
   }
  }
 },
 "nbformat": 4,
 "nbformat_minor": 2
}
