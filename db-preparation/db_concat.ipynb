{
 "cells": [
  {
   "cell_type": "code",
   "execution_count": 1,
   "metadata": {},
   "outputs": [],
   "source": [
    "import pandas as pd\n",
    "import glob"
   ]
  },
  {
   "cell_type": "code",
   "execution_count": null,
   "metadata": {},
   "outputs": [],
   "source": [
    "teste = pd.read_csv('D:\\Base_de_dados_anvisa\\EDA_Manipulados_201402.csv',\n",
    "                    sep=';',\n",
    "                    encoding='mbcs')\n",
    " \n",
    "column_dtypes = teste.dtypes.to_dict()"
   ]
  },
  {
   "cell_type": "code",
   "execution_count": 13,
   "metadata": {},
   "outputs": [],
   "source": [
    "def append_files(file_path, file_specification):\n",
    "    #read the path\n",
    "    path = file_path+file_specification\n",
    "    #list all the files from the directory\n",
    "    file_list = glob.glob(path)\n",
    "\n",
    "    df_concat = pd.concat((pd.read_csv(file, sep=';',encoding='mbcs',dtype=column_dtypes) for file in file_list),ignore_index=True)\n",
    "    return df_concat"
   ]
  },
  {
   "cell_type": "code",
   "execution_count": 14,
   "metadata": {},
   "outputs": [],
   "source": [
    "anos = list(range(2014,2022))\n",
    "\n",
    "for ano in anos:\n",
    "\n",
    "    read_file = '\\*'+str(ano)+'*.csv'\n",
    "    save_file = 'D:\\Base_de_dados_anvisa\\DB-Anvisa-'+str(ano)+'.csv'\n",
    "    df_anvisa = append_files(\"D:\\Base_de_dados_anvisa\",read_file)\n",
    "    df_anvisa.to_csv(save_file,index=None)\n"
   ]
  }
 ],
 "metadata": {
  "kernelspec": {
   "display_name": "medicamentos-anvisa",
   "language": "python",
   "name": "python3"
  },
  "language_info": {
   "codemirror_mode": {
    "name": "ipython",
    "version": 3
   },
   "file_extension": ".py",
   "mimetype": "text/x-python",
   "name": "python",
   "nbconvert_exporter": "python",
   "pygments_lexer": "ipython3",
   "version": "3.10.8"
  },
  "orig_nbformat": 4,
  "vscode": {
   "interpreter": {
    "hash": "074b82c1052e5467b2e986c82b32826f0e50a185111679063192bcbbc003c817"
   }
  }
 },
 "nbformat": 4,
 "nbformat_minor": 2
}
